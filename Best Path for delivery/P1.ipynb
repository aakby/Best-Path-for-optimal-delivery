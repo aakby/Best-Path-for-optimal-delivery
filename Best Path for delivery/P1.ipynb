{
 "cells": [
  {
   "cell_type": "markdown",
   "metadata": {},
   "source": [
    "# TP5-6 : Problème (P1) - contraintes de précédence"
   ]
  },
  {
   "cell_type": "markdown",
   "metadata": {},
   "source": [
    "Initialization (à décommenter et exécuter une seule fois)"
   ]
  },
  {
   "cell_type": "code",
   "execution_count": 8,
   "metadata": {
    "scrolled": true
   },
   "outputs": [],
   "source": [
    "#import Pkg; Pkg.add(\"Clp\")"
   ]
  },
  {
   "cell_type": "markdown",
   "metadata": {},
   "source": [
    "Récupération des données"
   ]
  },
  {
   "cell_type": "code",
   "execution_count": 2,
   "metadata": {
    "scrolled": true
   },
   "outputs": [
    {
     "data": {
      "text/plain": [
       "5-element Array{Int64,1}:\n",
       " 2\n",
       " 3\n",
       " 1\n",
       " 4\n",
       " 1"
      ]
     },
     "execution_count": 2,
     "metadata": {},
     "output_type": "execute_result"
    }
   ],
   "source": [
    "D=[2, 3, 1, 4, 1]"
   ]
  },
  {
   "cell_type": "markdown",
   "metadata": {},
   "source": [
    "Modélisation et résolution de (P1) à l'aide d'un programme linéaire"
   ]
  },
  {
   "cell_type": "code",
   "execution_count": 3,
   "metadata": {
    "scrolled": false
   },
   "outputs": [
    {
     "name": "stdout",
     "output_type": "stream",
     "text": [
      "Min tfin\n",
      "Subject to\n",
      " -t[1] + t[2] ≥ 2.0\n",
      " -t[1] + t[3] ≥ 2.0\n",
      " -t[2] + t[4] ≥ 3.0\n",
      " -t[3] + t[4] ≥ 1.0\n",
      " -t[3] + t[5] ≥ 1.0\n",
      " -t[4] + tfin ≥ 4.0\n",
      " -t[5] + tfin ≥ 1.0\n",
      " t[1] ≥ 0.0\n",
      " t[2] ≥ 0.0\n",
      " t[3] ≥ 0.0\n",
      " t[4] ≥ 0.0\n",
      " t[5] ≥ 0.0\n",
      "\n",
      "start solve ... ... end solve\n",
      "\n",
      "Solution PL:\n",
      " \t t=[0.0, 2.0, 2.0, 5.0, 8.0]\t tfin=9.0\n"
     ]
    }
   ],
   "source": [
    "using JuMP\n",
    "using Clp\n",
    "\n",
    "model = Model(Clp.Optimizer) # set optimizer\n",
    "set_optimizer_attribute(model, \"LogLevel\", 0) #don't display anything during solve\n",
    "set_optimizer_attribute(model, \"Algorithm\", 4) #LP solver chosen is simplex\n",
    "\n",
    "# define t variables\n",
    "@variable(model, t[i in 1:5] >= 0)\n",
    "@variable(model, tfin)\n",
    "\n",
    "# define objective function\n",
    "@objective(model, Min, tfin)\n",
    "\n",
    "# define constraints: t_j - t_i  >= D[i], \\forall i predecesseur de j\n",
    "@constraint(model, t[2] - t[1] >= D[1] )\n",
    "@constraint(model, t[3] - t[1] >= D[1] )\n",
    "@constraint(model, t[4] - t[2] >= D[2] )\n",
    "@constraint(model, t[4] - t[3] >= D[3] )\n",
    "@constraint(model, t[5] - t[3] >= D[3] )\n",
    "\n",
    "#define constraints: tfin - t_i >= Duree[i], \\forall i predecesseur de j\n",
    "@constraint(model, tfin - t[4] >= D[4] )\n",
    "@constraint(model, tfin - t[5] >= D[5] )\n",
    "\n",
    "println(model)\n",
    "\n",
    "print(\"start solve ... \")\n",
    "optimize!(model)\n",
    "print(\"... end solve\")\n",
    "\n",
    "\n",
    "println(\"\\n\\nSolution PL:\\n \\t t=\", value.(t), \"\\t tfin=\", value(tfin))\n"
   ]
  },
  {
   "cell_type": "markdown",
   "metadata": {},
   "source": [
    "## Modélisation classique par graphe potentiel-tache "
   ]
  },
  {
   "cell_type": "code",
   "execution_count": 2,
   "metadata": {},
   "outputs": [
    {
     "data": {
      "text/plain": [
       "PlusLongChemin (generic function with 1 method)"
      ]
     },
     "execution_count": 2,
     "metadata": {},
     "output_type": "execute_result"
    }
   ],
   "source": [
    "function PlusLongChemin(V, w, s)\n",
    "    D = w[findall(x->x==s, V)[1],:]\n",
    "    path = [\"\" for i in 1:length(D)]\n",
    "    for t in 1:length(V)\n",
    "        for x in 1:length(V)\n",
    "            if max(D[t], D[x] + w[x, t]) != Inf\n",
    "                if D[x] + w[x, t] >= D[t] && x!=t\n",
    "                    path[t] = string(V[x])\n",
    "                end\n",
    "                D[t] = max(D[t], D[x] + w[x, t])\n",
    "            else\n",
    "                if D[t] >= D[x] + w[x, t] && x!=t\n",
    "                    path[t] = string(V[x])\n",
    "                end\n",
    "                D[t] = min(D[t], D[x] + w[x, t])\n",
    "            end\n",
    "        end\n",
    "        if D[t] == Inf\n",
    "            path[t] = \"None\"\n",
    "        else\n",
    "            path[t] *= V[t]\n",
    "        end\n",
    "    end\n",
    "    for t in 1:length(V)\n",
    "        # In the vector path : For each node, we have his precedent node in the best path\n",
    "        # Now we have to do the path in reverse for each node\n",
    "        while path[t] != \"None\" && path[t][1] != s\n",
    "            precendent = findall(x->x==path[t][1], V)[1] # the precedent node\n",
    "            path[t] = path[precendent][1:length(path[precendent])-1]*path[t]\n",
    "        end\n",
    "    end\n",
    "    return D, path\n",
    "end"
   ]
  },
  {
   "cell_type": "code",
   "execution_count": 7,
   "metadata": {},
   "outputs": [
    {
     "data": {
      "text/plain": [
       "([0.0, 2.0, 2.0, 5.0, 3.0, 9.0], [\"A\", \"AB\", \"AC\", \"ABD\", \"ACE\", \"ABDF\"])"
      ]
     },
     "execution_count": 7,
     "metadata": {},
     "output_type": "execute_result"
    }
   ],
   "source": [
    "# Test\n",
    "w = [0 2 2 Inf Inf Inf;\n",
    "     Inf 0 Inf 3 Inf Inf;\n",
    "     Inf Inf 0 1 1 Inf;\n",
    "     Inf Inf Inf 0 Inf 4;\n",
    "     Inf Inf Inf Inf 0 1;\n",
    "     Inf Inf Inf Inf Inf 0]\n",
    "V = ['A','B','C','D','E','F']\n",
    "\n",
    "f = PlusLongChemin(V, w, 'A')"
   ]
  }
 ],
 "metadata": {
  "kernelspec": {
   "display_name": "Julia 1.5.2",
   "language": "julia",
   "name": "julia-1.5"
  },
  "language_info": {
   "file_extension": ".jl",
   "mimetype": "application/julia",
   "name": "julia",
   "version": "1.5.2"
  }
 },
 "nbformat": 4,
 "nbformat_minor": 4
}
