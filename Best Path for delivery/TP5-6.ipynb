{
 "cells": [
  {
   "cell_type": "markdown",
   "metadata": {},
   "source": [
    "<center>\n",
    "<h1> TP 5-6 de Recherche opérationnelle </h1>\n",
    "<h1> Année 2020-2021 - 2e année département Sciences du Numérique </h1>\n",
    "<h1> EL BOUCHIBTI Aymane</h1>\n",
    "<h1> AKBY Amine </h1>    \n",
    "</center>"
   ]
  },
  {
   "cell_type": "markdown",
   "metadata": {},
   "source": [
    "# Prise en main : ordonnancement avec contraintes de précédence"
   ]
  },
  {
   "cell_type": "markdown",
   "metadata": {},
   "source": [
    "Récupération des données"
   ]
  },
  {
   "cell_type": "code",
   "execution_count": 1,
   "metadata": {},
   "outputs": [
    {
     "data": {
      "text/plain": [
       "5-element Array{Int64,1}:\n",
       " 2\n",
       " 3\n",
       " 1\n",
       " 4\n",
       " 1"
      ]
     },
     "execution_count": 1,
     "metadata": {},
     "output_type": "execute_result"
    }
   ],
   "source": [
    "D=[2, 3, 1, 4, 1]"
   ]
  },
  {
   "cell_type": "markdown",
   "metadata": {},
   "source": [
    "#### Modélisation et résolution de (P1) à l'aide d'un programme linéaire :"
   ]
  },
  {
   "cell_type": "code",
   "execution_count": 2,
   "metadata": {},
   "outputs": [
    {
     "name": "stdout",
     "output_type": "stream",
     "text": [
      "Min tfin\n",
      "Subject to\n",
      " -t[1] + t[2] >= 2.0\n",
      " -t[1] + t[3] >= 2.0\n",
      " -t[2] + t[4] >= 3.0\n",
      " -t[3] + t[4] >= 1.0\n",
      " -t[3] + t[5] >= 1.0\n",
      " -t[4] + tfin >= 4.0\n",
      " -t[5] + tfin >= 1.0\n",
      " t[1] >= 0.0\n",
      " t[2] >= 0.0\n",
      " t[3] >= 0.0\n",
      " t[4] >= 0.0\n",
      " t[5] >= 0.0\n",
      "\n",
      "start solve ... ... end solve\n",
      "\n",
      "Solution PL:\n",
      " \t t=[0.0, 2.0, 2.0, 5.0, 8.0]\t tfin=9.0\n"
     ]
    }
   ],
   "source": [
    "using JuMP\n",
    "using Clp\n",
    "\n",
    "model = Model(Clp.Optimizer) # set optimizer\n",
    "set_optimizer_attribute(model, \"LogLevel\", 0) #don't display anything during solve\n",
    "set_optimizer_attribute(model, \"Algorithm\", 4) #LP solver chosen is simplex\n",
    "\n",
    "# define t variables\n",
    "@variable(model, t[i in 1:5] >= 0)\n",
    "@variable(model, tfin)\n",
    "\n",
    "# define objective function\n",
    "@objective(model, Min, tfin)\n",
    "\n",
    "# define constraints: t_j - t_i  >= D[i], \\forall i predecesseur de j\n",
    "@constraint(model, t[2] - t[1] >= D[1] )\n",
    "@constraint(model, t[3] - t[1] >= D[1] )\n",
    "@constraint(model, t[4] - t[2] >= D[2] )\n",
    "@constraint(model, t[4] - t[3] >= D[3] )\n",
    "@constraint(model, t[5] - t[3] >= D[3] )\n",
    "\n",
    "#define constraints: tfin - t_i >= Duree[i], \\forall i predecesseur de j\n",
    "@constraint(model, tfin - t[4] >= D[4] )\n",
    "@constraint(model, tfin - t[5] >= D[5] )\n",
    "\n",
    "println(model)\n",
    "\n",
    "print(\"start solve ... \")\n",
    "optimize!(model)\n",
    "print(\"... end solve\")\n",
    "\n",
    "\n",
    "println(\"\\n\\nSolution PL:\\n \\t t=\", value.(t), \"\\t tfin=\", value(tfin))"
   ]
  },
  {
   "cell_type": "markdown",
   "metadata": {},
   "source": [
    "#### Modélisation classique par graphe potentiel-tache "
   ]
  },
  {
   "cell_type": "markdown",
   "metadata": {},
   "source": [
    "On modélise le problème précedent par un graphe où les durées sont présentées par des arcs et les tâches par des noeuds du graphe.\n",
    "Résoudre le problème (P1) revient à trouver le plus long chemin dans le graphe entre le début et la fin.\n",
    "La valeur du plus long chemin est la durée de fin du projet."
   ]
  },
  {
   "cell_type": "code",
   "execution_count": 3,
   "metadata": {},
   "outputs": [
    {
     "data": {
      "text/plain": [
       "PlusLongChemin (generic function with 1 method)"
      ]
     },
     "execution_count": 3,
     "metadata": {},
     "output_type": "execute_result"
    }
   ],
   "source": [
    "function PlusLongChemin(V, w, s)\n",
    "    D = w[findall(x->x==s, V)[1],:]\n",
    "    for t in 1:length(V)\n",
    "        for x in 1:length(V)\n",
    "            if max(D[t], D[x] + w[x, t]) != Inf\n",
    "                D[t] = max(D[t], D[x] + w[x, t])\n",
    "            else\n",
    "                D[t] = min(D[t], D[x] + w[x, t])\n",
    "            end\n",
    "        end\n",
    "    end\n",
    "    return D\n",
    "end"
   ]
  },
  {
   "cell_type": "code",
   "execution_count": 4,
   "metadata": {},
   "outputs": [
    {
     "name": "stdout",
     "output_type": "stream",
     "text": [
      "\n",
      "\n",
      "Solution PL:\n",
      " \t t=[0.0, 2.0, 2.0, 5.0, 3.0, 9.0]\t tfin=9.0\n"
     ]
    }
   ],
   "source": [
    "# Test\n",
    "w = [0 2 2 Inf Inf Inf;\n",
    "     Inf 0 Inf 3 Inf Inf;\n",
    "     Inf Inf 0 1 1 Inf;\n",
    "     Inf Inf Inf 0 Inf 4;\n",
    "     Inf Inf Inf Inf 0 1;\n",
    "     Inf Inf Inf Inf Inf 0]\n",
    "V = ['A','B','C','D','E','F']\n",
    "\n",
    "f = PlusLongChemin(V, w, 'A')\n",
    "println(\"\\n\\nSolution PL:\\n \\t t=\", value.(f), \"\\t tfin=\", value(f[6]))"
   ]
  },
  {
   "cell_type": "markdown",
   "metadata": {},
   "source": [
    "La solution obtenue par l'algorithme de Bellman Ford du plus long chemin est la même pour le programme linéaire.\n",
    "On obtient une durée de fin de projet : 9."
   ]
  },
  {
   "cell_type": "markdown",
   "metadata": {},
   "source": [
    "# Job-shop : ordonnancement avec contraintes de précédence et contraintes de ressources"
   ]
  },
  {
   "cell_type": "markdown",
   "metadata": {},
   "source": [
    "#### Relaxation des contraintes de ressources"
   ]
  },
  {
   "cell_type": "markdown",
   "metadata": {},
   "source": [
    "Soit une relaxation (R) qui consiste à ignorer les contraintes de ressources du job-shop. (R) est équivalente au problème (P1)."
   ]
  },
  {
   "cell_type": "markdown",
   "metadata": {},
   "source": [
    "| Tâche i | A1 | A2 | A3 | B1 | B2 | B3 |\n",
    "| --- | --- | --- | --- | --- | --- |--- |\n",
    "| Durée di | 6 | 7 | 0 | 3 | 5 | 1 |\n",
    "| Conditions de début | Vrai | Après fin de A1 | Après fin de A2 | Vrai | Après fin de B1 | Après fin de B2 |"
   ]
  },
  {
   "cell_type": "code",
   "execution_count": 5,
   "metadata": {},
   "outputs": [
    {
     "data": {
      "text/plain": [
       "6-element Array{Int64,1}:\n",
       " 6\n",
       " 7\n",
       " 0\n",
       " 3\n",
       " 5\n",
       " 1"
      ]
     },
     "execution_count": 5,
     "metadata": {},
     "output_type": "execute_result"
    }
   ],
   "source": [
    "D=[6, 7, 0, 3, 5, 1]"
   ]
  },
  {
   "cell_type": "code",
   "execution_count": 6,
   "metadata": {},
   "outputs": [
    {
     "name": "stdout",
     "output_type": "stream",
     "text": [
      "Min tfin\n",
      "Subject to\n",
      " -t[1] + t[2] >= 6.0\n",
      " -t[2] + t[3] >= 7.0\n",
      " -t[4] + t[5] >= 3.0\n",
      " -t[5] + t[6] >= 3.0\n",
      " -t[6] + tfin >= 1.0\n",
      " -t[3] + tfin >= 0.0\n",
      " t[1] >= 0.0\n",
      " t[2] >= 0.0\n",
      " t[3] >= 0.0\n",
      " t[4] >= 0.0\n",
      " t[5] >= 0.0\n",
      " t[6] >= 0.0\n",
      "\n",
      "start solve ... ... end solve\n",
      "\n",
      "Solution PL:\n",
      " \t t=[0.0, 6.0, 13.0, 0.0, 3.0, 6.0]\t tfin=13.0\n"
     ]
    }
   ],
   "source": [
    "using JuMP\n",
    "using Clp\n",
    "\n",
    "model = Model(Clp.Optimizer) # set optimizer\n",
    "set_optimizer_attribute(model, \"LogLevel\", 0) #don't display anything during solve\n",
    "set_optimizer_attribute(model, \"Algorithm\", 4) #LP solver chosen is simplex\n",
    "\n",
    "# define t variables\n",
    "@variable(model, t[i in 1:6] >= 0)\n",
    "@variable(model, tfin)\n",
    "\n",
    "# define objective function\n",
    "@objective(model, Min, tfin)\n",
    "\n",
    "# define constraints: t_j - t_i  >= D[i], \\forall i predecesseur de j\n",
    "@constraint(model, t[2] - t[1] >= D[1])\n",
    "@constraint(model, t[3] - t[2] >= D[2])\n",
    "@constraint(model, t[5] - t[4] >= D[4])\n",
    "@constraint(model, t[6] - t[5] >= D[4])\n",
    "\n",
    "#define constraints: tfin - t_i >= Duree[i], \\forall i predecesseur de j\n",
    "@constraint(model, tfin - t[6] >= D[6])\n",
    "@constraint(model, tfin - t[3] >= D[3])\n",
    "\n",
    "println(model)\n",
    "\n",
    "print(\"start solve ... \")\n",
    "optimize!(model)\n",
    "print(\"... end solve\")\n",
    "\n",
    "\n",
    "println(\"\\n\\nSolution PL:\\n \\t t=\", value.(t), \"\\t tfin=\", value(tfin))"
   ]
  },
  {
   "cell_type": "code",
   "execution_count": 7,
   "metadata": {},
   "outputs": [
    {
     "data": {
      "text/plain": [
       "PlusLongChemin (generic function with 1 method)"
      ]
     },
     "execution_count": 7,
     "metadata": {},
     "output_type": "execute_result"
    }
   ],
   "source": [
    "function PlusLongChemin(V, w, s)\n",
    "    D = w[findall(x->x==s, V)[1],:]\n",
    "    for t in 1:length(V)\n",
    "        for x in 1:length(V)\n",
    "            if max(D[t], D[x] + w[x, t]) != Inf\n",
    "                D[t] = max(D[t], D[x] + w[x, t])\n",
    "            else\n",
    "                D[t] = min(D[t], D[x] + w[x, t])\n",
    "            end\n",
    "        end\n",
    "    end\n",
    "    return D\n",
    "end"
   ]
  },
  {
   "cell_type": "code",
   "execution_count": 8,
   "metadata": {},
   "outputs": [
    {
     "name": "stdout",
     "output_type": "stream",
     "text": [
      "\n",
      "\n",
      "Solution PL:\n",
      " \t t=[0.0, 6.0, Inf, Inf, Inf, 13.0]\t tfin=13.0\n"
     ]
    }
   ],
   "source": [
    "# Test\n",
    "graphe = [0   6   Inf Inf Inf Inf;\n",
    "          Inf 0   Inf Inf Inf 7;\n",
    "          Inf Inf 0   3   Inf Inf;\n",
    "          Inf Inf Inf 0   5   Inf;\n",
    "          Inf Inf Inf Inf 0   1;\n",
    "          Inf Inf Inf Inf Inf 0]\n",
    "\n",
    "V = [\"A1\",\"A2\",\"B1\",\"B2\",\"B3\",\"Fin\"]\n",
    "\n",
    "f = PlusLongChemin(V, graphe, \"A1\")\n",
    "println(\"\\n\\nSolution PL:\\n \\t t=\", value.(f), \"\\t tfin=\", value(f[6]))"
   ]
  },
  {
   "cell_type": "markdown",
   "metadata": {},
   "source": [
    "Les opérations 1 des travaux 1 et 2 commencent en même temps alors qu'ils utilisent la même ressource selon les contraintes. Donc, la solution donnée par le programme linéaire ne respecte pas les contraintes du tableau (b)."
   ]
  },
  {
   "cell_type": "markdown",
   "metadata": {},
   "source": [
    "# Résolution avec Méthode des graphes disjonctifs"
   ]
  },
  {
   "cell_type": "markdown",
   "metadata": {},
   "source": [
    "### PSE basée sur la relaxation linéaire du modèle avec bigM"
   ]
  },
  {
   "cell_type": "markdown",
   "metadata": {},
   "source": [
    "Récupération des données"
   ]
  },
  {
   "cell_type": "code",
   "execution_count": 9,
   "metadata": {},
   "outputs": [
    {
     "data": {
      "text/plain": [
       "22"
      ]
     },
     "execution_count": 9,
     "metadata": {},
     "output_type": "execute_result"
    }
   ],
   "source": [
    "MachinesParJob=[1 3 0; 1 2 3]\n",
    "Duree=[6 7 0; 3 5 1]\n",
    "bigM=sum(Duree)"
   ]
  },
  {
   "cell_type": "markdown",
   "metadata": {},
   "source": [
    "Procédure d'application des tests de sondabilités TA, TO et TR pour le cas de la relaxation linéaire"
   ]
  },
  {
   "cell_type": "code",
   "execution_count": 10,
   "metadata": {},
   "outputs": [
    {
     "data": {
      "text/plain": [
       "TestsSondabilite_relaxlin (generic function with 1 method)"
      ]
     },
     "execution_count": 10,
     "metadata": {},
     "output_type": "execute_result"
    }
   ],
   "source": [
    "function TestsSondabilite_relaxlin(model2, varsbin, BestTfin, Bestsol)\n",
    "    TA, TO, TR = false, false, false\n",
    "    if(termination_status(model2) == MOI.INFEASIBLE)#Test de faisabilite\n",
    "        TA=true\n",
    "        println(\"TA\")\n",
    "    elseif(objective_value(model2) >= BestTfin) #Test d'optimalite\n",
    "        TO=true\n",
    "        println(\"TO\")\n",
    "    elseif( prod(abs.([round.(v, digits=0) for v in value.(varsbin)]-value.(varsbin)) .<= fill(10^-5, size(varsbin))) \n",
    "        ) #Test de resolution\n",
    "        TR=true\n",
    "        println(\"TR\")\n",
    "        if (value(tfin) <= BestTfin)\n",
    "            Bestsol = value.(t)\n",
    "            BestTfin=value(tfin)\n",
    "        end\n",
    "    else\n",
    "        println(\"non sondable\")\n",
    "    end\n",
    "    TA, TO, TR, Bestsol, BestTfin\n",
    "end"
   ]
  },
  {
   "cell_type": "markdown",
   "metadata": {},
   "source": [
    "Procédure de séparation et stratégie d'exploration permettant de se placer au prochain noeud à traiter"
   ]
  },
  {
   "cell_type": "code",
   "execution_count": 11,
   "metadata": {},
   "outputs": [
    {
     "data": {
      "text/plain": [
       "ExplorerAutreNoeud_relaxlin (generic function with 1 method)"
      ]
     },
     "execution_count": 11,
     "metadata": {},
     "output_type": "execute_result"
    }
   ],
   "source": [
    "\n",
    "function SeparerNoeud_relaxlin(varsshouldbebinary, listvars, listvals)\n",
    "    # le noeud est non-sondable. Appliquer le critère de séparation pour le séparer en sous-noeuds \n",
    "    # et choisir un noeud-fils le plus à gauche   \n",
    "    \n",
    "    #find a fractionnal variable\n",
    "    i, var = 1, 0\n",
    "    while((i <= length(varsshouldbebinary)) && (var==0))\n",
    "        #if(varsshouldbebinary[i] ∉ listvars)\n",
    "        if(abs(round(value(varsshouldbebinary[i]), digits=0) - value(varsshouldbebinary[i]) ) >= 10^-5)\n",
    "            var=varsshouldbebinary[i]\n",
    "        end\n",
    "        i+=1\n",
    "    end\n",
    "    \n",
    "    #=\n",
    "    #find most fractionnal variable\n",
    "    i, var, maxfrac = -1, 0, 0.0\n",
    "    for i in 1:length(varsshouldbebinary)\n",
    "        if(abs(round(value(varsshouldbebinary[i]), digits=0) - value(varsshouldbebinary[i]) ) >= maxfrac) \n",
    "            #if a variable is more fractinonal\n",
    "            var=varsshouldbebinary[i]\n",
    "            maxfrac=abs(round(value(varsshouldbebinary[i]), digits=0) - value(varsshouldbebinary[i]) )\n",
    "            #println(i, \" \", var, \" \", maxfrac)\n",
    "        end\n",
    "    end\n",
    "    =#\n",
    "    \n",
    "\n",
    "    set_lower_bound(var,1.0)\n",
    "    set_upper_bound(var,1.0)\n",
    "\n",
    "    push!(listvars,var) #stocker l'identite de la variable choisie pour la séparation\n",
    "    push!(listvals,1.0) #stocker la branche choisie, identifiee par la valeur de la variable choisie\n",
    "    listvars, listvals\n",
    "end\n",
    "\n",
    "\n",
    "function ExplorerAutreNoeud_relaxlin(listvars, listvals)\n",
    "    #this node is sondable, go back to parent node then right child if possible\n",
    "    \n",
    "    stop=false\n",
    "    #go back to parent node\n",
    "    var=pop!(listvars)\n",
    "    theval=pop!(listvals)\n",
    "    set_lower_bound(var,0.0)\n",
    "    set_upper_bound(var,1.0)\n",
    "\n",
    "    #go to right child if possible, otherwise go back to parent\n",
    "    while( (theval==0.0) && (length(listvars)>= 1))\n",
    "        var=pop!(listvars)\n",
    "        theval=pop!(listvals)\n",
    "        set_lower_bound(var,0.0) \n",
    "        set_upper_bound(var,1.0)\n",
    "    end\n",
    "    if theval==1.0\n",
    "        set_lower_bound(var,0.0)\n",
    "        set_upper_bound(var,0.0)\n",
    "        push!(listvars,var)\n",
    "        push!(listvals,0.0)\n",
    "    else\n",
    "        println(\"\\nFINISHED\")\n",
    "        stop=true\n",
    "    end\n",
    "    listvars, listvals, stop \n",
    "end"
   ]
  },
  {
   "cell_type": "markdown",
   "metadata": {},
   "source": [
    "Creation de la relaxation linéaire (= modèle associé au noeud 0)"
   ]
  },
  {
   "cell_type": "code",
   "execution_count": 12,
   "metadata": {},
   "outputs": [
    {
     "name": "stdout",
     "output_type": "stream",
     "text": [
      "Min tfin\n",
      "Subject to\n",
      " -t[1,1] + t[1,2] >= 6.0\n",
      " -t[1,2] + t[1,3] >= 7.0\n",
      " -t[2,1] + t[2,2] >= 3.0\n",
      " -t[2,2] + t[2,3] >= 5.0\n",
      " -t[1,3] + tfin >= 0.0\n",
      " -t[2,3] + tfin >= 1.0\n",
      " -t[1,1] + t[2,1] + 22 x_2_1__1_1 >= 6.0\n",
      " t[1,1] - t[2,1] - 22 x_2_1__1_1 >= -19.0\n",
      " -t[1,2] + t[2,3] + 22 x_2_3__1_2 >= 7.0\n",
      " t[1,2] - t[2,3] - 22 x_2_3__1_2 >= -21.0\n",
      " t[1,1] >= 0.0\n",
      " t[2,1] >= 0.0\n",
      " t[1,2] >= 0.0\n",
      " t[2,2] >= 0.0\n",
      " t[1,3] >= 0.0\n",
      " t[2,3] >= 0.0\n",
      " x_2_1__1_1 >= 0.0\n",
      " x_2_3__1_2 >= 0.0\n",
      " x_2_1__1_1 <= 1.0\n",
      " x_2_3__1_2 <= 1.0\n",
      "\n"
     ]
    }
   ],
   "source": [
    "# ROOT NODE\n",
    "using JuMP\n",
    "using Clp\n",
    "\n",
    "model2 = Model(Clp.Optimizer) # set optimizer\n",
    "set_optimizer_attribute(model2, \"LogLevel\", 0) #don't display anything during solve\n",
    "set_optimizer_attribute(model2, \"Algorithm\", 4) #LP solver chosen is simplex\n",
    "\n",
    "# define t variables\n",
    "@variable(model2, t[i in 1:2, j in 1:3] >= 0)\n",
    "@variable(model2, tfin)\n",
    "\n",
    "# define objective function\n",
    "@objective(model2, Min, tfin)\n",
    "\n",
    "# define constraints: t_i(j+1) - t_ij  >= Duree[i,j], \\forall i,j\n",
    "@constraint(model2, t[1,2] - t[1,1] >= Duree[1,1] )\n",
    "@constraint(model2, t[1,3] - t[1,2] >= Duree[1,2] )\n",
    "@constraint(model2, t[2,2] - t[2,1] >= Duree[2,1] )\n",
    "@constraint(model2, t[2,3] - t[2,2] >= Duree[2,2] )\n",
    "\n",
    "#define constraints: tfin - t_ij >= Duree[i,j], \\forall ij\n",
    "@constraint(model2, tfin - t[1,3] >= Duree[1,3] )\n",
    "@constraint(model2, tfin - t[2,3] >= Duree[2,3] )\n",
    "\n",
    "\n",
    "# define x variables as CONTINUOUS (recall that it is not possible to define binary variables in Clp)\n",
    "@variable(model2, 0 <= x_2_1__1_1 <= 1)\n",
    "@variable(model2, 0 <= x_2_3__1_2 <= 1)\n",
    "varsshouldbebinary=[x_2_1__1_1,x_2_3__1_2]\n",
    "\n",
    "\n",
    "# define bigM constraints linking x and t variables\n",
    "@constraint(model2, t[2,1] - t[1,1] >=  Duree[1,1] - bigM*x_2_1__1_1)\n",
    "@constraint(model2, t[1,1] - t[2,1] >=  Duree[2,1] - bigM*(1-x_2_1__1_1))\n",
    "@constraint(model2, t[2,3] - t[1,2] >=  Duree[1,2] - bigM*x_2_3__1_2)\n",
    "@constraint(model2, t[1,2] - t[2,3] >=  Duree[2,3] - bigM*(1-x_2_3__1_2))\n",
    "\n",
    "\n",
    "println(model2)"
   ]
  },
  {
   "cell_type": "markdown",
   "metadata": {},
   "source": [
    "Boucle principale : résoudre la relaxation linéaire, appliquer les tests de sondabilité, identifier le prochain noeud, répéter."
   ]
  },
  {
   "cell_type": "code",
   "execution_count": 13,
   "metadata": {},
   "outputs": [
    {
     "name": "stdout",
     "output_type": "stream",
     "text": [
      "\n",
      "Node number 0: \n",
      "-----\n",
      "Min tfin\n",
      "Subject to\n",
      " -t[1,1] + t[1,2] >= 6.0\n",
      " -t[1,2] + t[1,3] >= 7.0\n",
      " -t[2,1] + t[2,2] >= 3.0\n",
      " -t[2,2] + t[2,3] >= 5.0\n",
      " -t[1,3] + tfin >= 0.0\n",
      " -t[2,3] + tfin >= 1.0\n",
      " -t[1,1] + t[2,1] + 22 x_2_1__1_1 >= 6.0\n",
      " t[1,1] - t[2,1] - 22 x_2_1__1_1 >= -19.0\n",
      " -t[1,2] + t[2,3] + 22 x_2_3__1_2 >= 7.0\n",
      " t[1,2] - t[2,3] - 22 x_2_3__1_2 >= -21.0\n",
      " t[1,1] >= 0.0\n",
      " t[2,1] >= 0.0\n",
      " t[1,2] >= 0.0\n",
      " t[2,2] >= 0.0\n",
      " t[1,3] >= 0.0\n",
      " t[2,3] >= 0.0\n",
      " x_2_1__1_1 >= 0.0\n",
      " x_2_3__1_2 >= 0.0\n",
      " x_2_1__1_1 <= 1.0\n",
      " x_2_3__1_2 <= 1.0\n",
      "\n",
      "Solve : start ... ... end\n",
      "\n",
      "Solution relax lin\n",
      "\tt[1,1]=0.0\tt[2,1]=0.0\tt[1,2]=6.0\tt[2,2]=3.0\tt[1,3]=13.0\tt[2,3]=8.0\ttfin=13.0\tx_2_1__1_1=0.27272727272727276\tx_2_3__1_2=0.22727272727272732 \n",
      "\n",
      "Solution precedemment memorisee Any[] avec date de fin 22\n",
      "\n",
      "non sondable\n",
      "\n",
      "Node number 1: \n",
      "-----\n",
      "Min tfin\n",
      "Subject to\n",
      " -t[1,1] + t[1,2] >= 6.0\n",
      " -t[1,2] + t[1,3] >= 7.0\n",
      " -t[2,1] + t[2,2] >= 3.0\n",
      " -t[2,2] + t[2,3] >= 5.0\n",
      " -t[1,3] + tfin >= 0.0\n",
      " -t[2,3] + tfin >= 1.0\n",
      " -t[1,1] + t[2,1] + 22 x_2_1__1_1 >= 6.0\n",
      " t[1,1] - t[2,1] - 22 x_2_1__1_1 >= -19.0\n",
      " -t[1,2] + t[2,3] + 22 x_2_3__1_2 >= 7.0\n",
      " t[1,2] - t[2,3] - 22 x_2_3__1_2 >= -21.0\n",
      " t[1,1] >= 0.0\n",
      " t[2,1] >= 0.0\n",
      " t[1,2] >= 0.0\n",
      " t[2,2] >= 0.0\n",
      " t[1,3] >= 0.0\n",
      " t[2,3] >= 0.0\n",
      " x_2_1__1_1 >= 1.0\n",
      " x_2_3__1_2 >= 0.0\n",
      " x_2_1__1_1 <= 1.0\n",
      " x_2_3__1_2 <= 1.0\n",
      "\n",
      "Solve : start ... ... end\n",
      "\n",
      "Solution relax lin\n",
      "\tt[1,1]=3.0\tt[2,1]=0.0\tt[1,2]=9.0\tt[2,2]=3.0\tt[1,3]=16.0\tt[2,3]=8.0\ttfin=16.0\tx_2_1__1_1=1.0\tx_2_3__1_2=0.36363636363636365 \n",
      "\n",
      "Solution precedemment memorisee Any[] avec date de fin 22\n",
      "\n",
      "non sondable\n",
      "\n",
      "Node number 2: \n",
      "-----\n",
      "Min tfin\n",
      "Subject to\n",
      " -t[1,1] + t[1,2] >= 6.0\n",
      " -t[1,2] + t[1,3] >= 7.0\n",
      " -t[2,1] + t[2,2] >= 3.0\n",
      " -t[2,2] + t[2,3] >= 5.0\n",
      " -t[1,3] + tfin >= 0.0\n",
      " -t[2,3] + tfin >= 1.0\n",
      " -t[1,1] + t[2,1] + 22 x_2_1__1_1 >= 6.0\n",
      " t[1,1] - t[2,1] - 22 x_2_1__1_1 >= -19.0\n",
      " -t[1,2] + t[2,3] + 22 x_2_3__1_2 >= 7.0\n",
      " t[1,2] - t[2,3] - 22 x_2_3__1_2 >= -21.0\n",
      " t[1,1] >= 0.0\n",
      " t[2,1] >= 0.0\n",
      " t[1,2] >= 0.0\n",
      " t[2,2] >= 0.0\n",
      " t[1,3] >= 0.0\n",
      " t[2,3] >= 0.0\n",
      " x_2_1__1_1 >= 1.0\n",
      " x_2_3__1_2 >= 1.0\n",
      " x_2_1__1_1 <= 1.0\n",
      " x_2_3__1_2 <= 1.0\n",
      "\n",
      "Solve : start ... ... end\n",
      "\n",
      "Solution relax lin\n",
      "\tt[1,1]=3.0\tt[2,1]=0.0\tt[1,2]=9.0\tt[2,2]=3.0\tt[1,3]=16.0\tt[2,3]=8.0\ttfin=16.0\tx_2_1__1_1=1.0\tx_2_3__1_2=1.0 \n",
      "\n",
      "Solution precedemment memorisee Any[] avec date de fin 22\n",
      "\n",
      "TR\n",
      "\n",
      "Node number 3: \n",
      "-----\n",
      "Min tfin\n",
      "Subject to\n",
      " -t[1,1] + t[1,2] >= 6.0\n",
      " -t[1,2] + t[1,3] >= 7.0\n",
      " -t[2,1] + t[2,2] >= 3.0\n",
      " -t[2,2] + t[2,3] >= 5.0\n",
      " -t[1,3] + tfin >= 0.0\n",
      " -t[2,3] + tfin >= 1.0\n",
      " -t[1,1] + t[2,1] + 22 x_2_1__1_1 >= 6.0\n",
      " t[1,1] - t[2,1] - 22 x_2_1__1_1 >= -19.0\n",
      " -t[1,2] + t[2,3] + 22 x_2_3__1_2 >= 7.0\n",
      " t[1,2] - t[2,3] - 22 x_2_3__1_2 >= -21.0\n",
      " t[1,1] >= 0.0\n",
      " t[2,1] >= 0.0\n",
      " t[1,2] >= 0.0\n",
      " t[2,2] >= 0.0\n",
      " t[1,3] >= 0.0\n",
      " t[2,3] >= 0.0\n",
      " x_2_1__1_1 >= 1.0\n",
      " x_2_3__1_2 >= 0.0\n",
      " x_2_1__1_1 <= 1.0\n",
      " x_2_3__1_2 <= 0.0\n",
      "\n",
      "Solve : start ... ... end\n",
      "\n",
      "Solution relax lin\n",
      "\tt[1,1]=3.0\tt[2,1]=0.0\tt[1,2]=9.0\tt[2,2]=11.0\tt[1,3]=17.0\tt[2,3]=16.0\ttfin=17.0\tx_2_1__1_1=1.0\tx_2_3__1_2=0.0 \n",
      "\n",
      "Solution precedemment memorisee [3.0 9.0 16.0; 0.0 3.0 8.0] avec date de fin 16.0\n",
      "\n",
      "TO\n",
      "\n",
      "Node number 4: \n",
      "-----\n",
      "Min tfin\n",
      "Subject to\n",
      " -t[1,1] + t[1,2] >= 6.0\n",
      " -t[1,2] + t[1,3] >= 7.0\n",
      " -t[2,1] + t[2,2] >= 3.0\n",
      " -t[2,2] + t[2,3] >= 5.0\n",
      " -t[1,3] + tfin >= 0.0\n",
      " -t[2,3] + tfin >= 1.0\n",
      " -t[1,1] + t[2,1] + 22 x_2_1__1_1 >= 6.0\n",
      " t[1,1] - t[2,1] - 22 x_2_1__1_1 >= -19.0\n",
      " -t[1,2] + t[2,3] + 22 x_2_3__1_2 >= 7.0\n",
      " t[1,2] - t[2,3] - 22 x_2_3__1_2 >= -21.0\n",
      " t[1,1] >= 0.0\n",
      " t[2,1] >= 0.0\n",
      " t[1,2] >= 0.0\n",
      " t[2,2] >= 0.0\n",
      " t[1,3] >= 0.0\n",
      " t[2,3] >= 0.0\n",
      " x_2_1__1_1 >= 0.0\n",
      " x_2_3__1_2 >= 0.0\n",
      " x_2_1__1_1 <= 0.0\n",
      " x_2_3__1_2 <= 1.0\n",
      "\n",
      "Solve : start ... ... end\n",
      "\n",
      "Solution relax lin\n",
      "\tt[1,1]=0.0\tt[2,1]=6.0\tt[1,2]=6.0\tt[2,2]=9.0\tt[1,3]=15.0\tt[2,3]=14.0\ttfin=15.0\tx_2_1__1_1=0.0\tx_2_3__1_2=0.0 \n",
      "\n",
      "Solution precedemment memorisee [3.0 9.0 16.0; 0.0 3.0 8.0] avec date de fin 16.0\n",
      "\n",
      "TR\n",
      "\n",
      "FINISHED\n",
      "\n",
      "******\n",
      "\n",
      "Optimal value = 15.0\n",
      "\n",
      "Optimal t=[0.0 6.0 15.0; 6.0 9.0 14.0]\n"
     ]
    }
   ],
   "source": [
    "\n",
    "listvars=[]\n",
    "listvals=[]\n",
    "\n",
    "BestTfin=bigM\n",
    "Bestsol=[]\n",
    "\n",
    "current_node_number=0\n",
    "stop = false\n",
    "\n",
    "while(!stop)\n",
    "    \n",
    "    println(\"\\nNode number \", current_node_number, \": \\n-----\\n\", model2)\n",
    "\n",
    "    print(\"Solve : start ... \")\n",
    "    status = optimize!(model2)\n",
    "    println(\"... end\")\n",
    "\n",
    "    println(\"\\nSolution relax lin\",); [print(\"\\t\", name(v),\"=\",value(v)) for v in all_variables(model2)]; \n",
    "    println(\" \"); println(\"\\nSolution precedemment memorisee \", Bestsol, \" avec date de fin \", BestTfin, \"\\n\")\n",
    "\n",
    "    TA, TO, TR, Bestsol, BestTfin = TestsSondabilite_relaxlin(model2, varsshouldbebinary, BestTfin, Bestsol)\n",
    "\n",
    "    is_node_sondable = TA || TO || TR\n",
    "    \n",
    "    if(!is_node_sondable)\n",
    "        listvars, listvals = SeparerNoeud_relaxlin(varsshouldbebinary, listvars, listvals)\n",
    "    else\n",
    "        listvars, listvals, stop = ExplorerAutreNoeud_relaxlin(listvars, listvals)\n",
    "    end\n",
    "\n",
    "    current_node_number = current_node_number + 1\n",
    "end\n",
    "\n",
    "println(\"\\n******\\n\\nOptimal value = \", BestTfin, \"\\n\\nOptimal t=\", Bestsol)\n"
   ]
  },
  {
   "cell_type": "code",
   "execution_count": 14,
   "metadata": {},
   "outputs": [
    {
     "name": "stdout",
     "output_type": "stream",
     "text": [
      "\n",
      "******\n",
      "\n",
      "Optimal value = 15.0\n",
      "\n",
      "Optimal t=[0.0 6.0 15.0; 6.0 9.0 14.0]\n"
     ]
    }
   ],
   "source": [
    "println(\"\\n******\\n\\nOptimal value = \", BestTfin, \"\\n\\nOptimal t=\", Bestsol)"
   ]
  },
  {
   "cell_type": "markdown",
   "metadata": {},
   "source": [
    "### PSE basée sur le graphe disjonctif"
   ]
  },
  {
   "cell_type": "code",
   "execution_count": 61,
   "metadata": {},
   "outputs": [
    {
     "data": {
      "text/plain": [
       "PlusLongChemin (generic function with 3 methods)"
      ]
     },
     "execution_count": 61,
     "metadata": {},
     "output_type": "execute_result"
    }
   ],
   "source": [
    "function PlusLongChemin(V, w, w_disjonctif, s)\n",
    "    D = w[findall(x->x==s,V)[1],:]\n",
    "    for t in 1:length(V)\n",
    "        for x in 1:length(V)\n",
    "            if max(D[t],D[x] + w[x, t]) !=  Inf\n",
    "                D[t] = max(D[t], D[x] + w[x, t])\n",
    "            else\n",
    "                D[t] = min(D[t], D[x] + w[x, t])\n",
    "            end\n",
    "            if (w[x,t] != Inf) && (w[x,t] > 0)\n",
    "                for r in 1:length(V)\n",
    "                    if w_disjonctif[r,t] != Inf\n",
    "                        if (D[t] + w_disjonctif[t,r] < D[r] + w_disjonctif[r,t])\n",
    "                            D[t] = min(D[t] + w_disjonctif[r,t],D[r] + w_disjonctif[r,t])\n",
    "                        end\n",
    "                    end\n",
    "                end\n",
    "            end\n",
    "        end\n",
    "    end\n",
    "    D = D+ones(length(V))\n",
    "    return D\n",
    "end"
   ]
  },
  {
   "cell_type": "code",
   "execution_count": 63,
   "metadata": {},
   "outputs": [
    {
     "name": "stdout",
     "output_type": "stream",
     "text": [
      "\n",
      " tfin = 15.0\n"
     ]
    }
   ],
   "source": [
    "# Test\n",
    "graphe = [0    6     Inf   Inf   Inf   Inf;\n",
    "          Inf  0     Inf   Inf   Inf     7;\n",
    "          Inf  Inf   0     3     Inf   Inf;\n",
    "          Inf  Inf   Inf   0     5     Inf;\n",
    "          Inf  Inf   Inf   Inf   0       1;\n",
    "          Inf  Inf   Inf   Inf   Inf     0]\n",
    "\n",
    "graphe_disjoint = [0    Inf   6     Inf   Inf   Inf;\n",
    "                   Inf  0     Inf   Inf   7     Inf;\n",
    "                   3    Inf   0     Inf   Inf   Inf;\n",
    "                   Inf  Inf   Inf   0     Inf   Inf;\n",
    "                   Inf  1     Inf   Inf   0     Inf;\n",
    "                   Inf  Inf   Inf   Inf   Inf     0]\n",
    "\n",
    "V = [\"A1\",\"A2\",\"B1\",\"B2\",\"B3\",\"Fin\"]\n",
    "\n",
    "res = PlusLongChemin(V, graphe,graphe_disjoint,\"A1\")\n",
    "\n",
    "println(\"\\n tfin = \", value(res[6]))"
   ]
  }
 ],
 "metadata": {
  "kernelspec": {
   "display_name": "Julia 1.5.2",
   "language": "julia",
   "name": "julia-1.5"
  },
  "language_info": {
   "file_extension": ".jl",
   "mimetype": "application/julia",
   "name": "julia",
   "version": "1.5.2"
  }
 },
 "nbformat": 4,
 "nbformat_minor": 4
}
