{
 "cells": [
  {
   "cell_type": "code",
   "execution_count": 6,
   "metadata": {},
   "outputs": [
    {
     "name": "stdout",
     "output_type": "stream",
     "text": [
      "Welcome to the CBC MILP Solver \n",
      "Version: 2.10.3 \n",
      "Build Date: Jan  1 1970 \n",
      "\n",
      "command line - Cbc_C_Interface -solve -quit (default strategy 1)\n",
      "Presolve 2 (-6) rows, 6 (0) columns and 6 (-6) elements\n",
      "0  Obj 2.6999999 Primal inf 5.099998 (2)\n",
      "2  Obj 9.5\n",
      "Optimal - objective value 9.5\n",
      "After Postsolve, objective 9.5, infeasibilities - dual 0 (0), primal 0 (0)\n",
      "Optimal objective 9.5 - 2 iterations time 0.002, Presolve 0.00\n",
      "Total time (CPU seconds):       0.00   (Wallclock seconds):       0.00\n",
      "\n"
     ]
    }
   ],
   "source": [
    "# fonctionne pour JuMP version 0.21.5\n",
    "using Cbc\n",
    "using JuMP\n",
    "\n",
    "# data\n",
    "A = [2 0; 1 3] # fluides demandés par commande\n",
    "B = [2.5 1; 1 2; 2 1] #Stocks de fluides par magasin\n",
    "C = [1 1; 2 3; 3 2] #Couts unitaires par entrepôt\n",
    "\n",
    "# set optimizer\n",
    "model = Model(Cbc.Optimizer)\n",
    "\n",
    "# define variables\n",
    "@variable(model, M[1:3,1:2] >= 0)\n",
    "\n",
    "# define objective function\n",
    "@objective(model, Min, sum(M.*C))\n",
    "\n",
    "# define constraints\n",
    "for i in 1:3\n",
    "    for j in 1:2\n",
    "        @constraint(model, M[i,j] - B[i,j] <= 0)\n",
    "    end\n",
    "end\n",
    "\n",
    "#Bonne répartition des fluides 1 et 2 sur les magasins\n",
    "@constraint(model, sum(M[:,1]) - sum(A[:,1]) == 0)\n",
    "@constraint(model, sum(M[:,2]) - sum(A[:,2]) == 0)\n",
    "\n",
    "# run optimization\n",
    "optimize!(model)"
   ]
  },
  {
   "cell_type": "code",
   "execution_count": 9,
   "metadata": {},
   "outputs": [
    {
     "name": "stdout",
     "output_type": "stream",
     "text": [
      "Solution obtenue:\n",
      "\t benefice = 9.5\n",
      "\t la répartition du fluide 1 sur les magasins 1 = 2.5\n",
      "\t la répartition du fluide 2 sur les magasins 1 = 1.0\n",
      "\t la répartition du fluide 1 sur les magasins 2 = 0.5\n",
      "\t la répartition du fluide 2 sur les magasins 2 = 1.0\n",
      "\t la répartition du fluide 1 sur les magasins 3 = 0.0\n",
      "\t la répartition du fluide 2 sur les magasins 3 = 1.0\n"
     ]
    }
   ],
   "source": [
    "# print solution\n",
    "println(\"Solution obtenue:\")\n",
    "println(\"\\t benefice = $(objective_value(model))\")\n",
    "for i in 1:3\n",
    "    for j in 1:2\n",
    "        println(\"\\t la répartition du fluide $j sur les magasins $i = $(value(M[i,j]))\")\n",
    "    end\n",
    "end"
   ]
  },
  {
   "cell_type": "code",
   "execution_count": null,
   "metadata": {},
   "outputs": [],
   "source": []
  }
 ],
 "metadata": {
  "kernelspec": {
   "display_name": "Julia 1.5.2",
   "language": "julia",
   "name": "julia-1.5"
  },
  "language_info": {
   "file_extension": ".jl",
   "mimetype": "application/julia",
   "name": "julia",
   "version": "1.5.2"
  }
 },
 "nbformat": 4,
 "nbformat_minor": 4
}
