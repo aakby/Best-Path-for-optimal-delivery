{
 "cells": [
  {
   "cell_type": "code",
   "execution_count": 2,
   "metadata": {},
   "outputs": [
    {
     "name": "stdout",
     "output_type": "stream",
     "text": [
      "Welcome to the CBC MILP Solver \n",
      "Version: 2.10.3 \n",
      "Build Date: Jan  1 1970 \n",
      "\n",
      "command line - Cbc_C_Interface -solve -quit (default strategy 1)\n",
      "Continuous objective value is 11.25 - 0.00 seconds\n",
      "Cgl0003I 0 fixed, 0 tightened bounds, 2 strengthened rows, 3 substitutions\n",
      "Cgl0004I processed model has 14 rows, 13 columns (13 integer (10 of which binary)) and 37 elements\n",
      "Cbc0012I Integer solution of 14 found by DiveCoefficient after 0 iterations and 0 nodes (0.00 seconds)\n",
      "Cbc0001I Search completed - best objective 14, took 1 iterations and 0 nodes (0.00 seconds)\n",
      "Cbc0035I Maximum depth 0, 3 variables fixed on reduced cost\n",
      "Cuts at root node changed objective from 13.5 to 14\n",
      "Probing was tried 0 times and created 0 cuts of which 0 were active after adding rounds of cuts (0.000 seconds)\n",
      "Gomory was tried 0 times and created 0 cuts of which 0 were active after adding rounds of cuts (0.000 seconds)\n",
      "Knapsack was tried 0 times and created 0 cuts of which 0 were active after adding rounds of cuts (0.000 seconds)\n",
      "Clique was tried 0 times and created 0 cuts of which 0 were active after adding rounds of cuts (0.000 seconds)\n",
      "MixedIntegerRounding2 was tried 0 times and created 0 cuts of which 0 were active after adding rounds of cuts (0.000 seconds)\n",
      "FlowCover was tried 0 times and created 0 cuts of which 0 were active after adding rounds of cuts (0.000 seconds)\n",
      "TwoMirCuts was tried 0 times and created 0 cuts of which 0 were active after adding rounds of cuts (0.000 seconds)\n",
      "ZeroHalf was tried 0 times and created 0 cuts of which 0 were active after adding rounds of cuts (0.000 seconds)\n",
      "\n",
      "Result - Optimal solution found\n",
      "\n",
      "Objective value:                14.00000000\n",
      "Enumerated nodes:               0\n",
      "Total iterations:               1\n",
      "Time (CPU seconds):             0.00\n",
      "Time (Wallclock seconds):       0.00\n",
      "\n",
      "Total time (CPU seconds):       0.01   (Wallclock seconds):       0.01\n",
      "\n"
     ]
    }
   ],
   "source": [
    "# fonctionne pour JuMP version 0.21.5\n",
    "using Cbc\n",
    "using JuMP\n",
    "\n",
    "# data\n",
    "A = [2 0; 1 3] # fluides demandés par commande\n",
    "B = [2 1; 1 2; 2 1] #Stocks de fluides par magasin\n",
    "C = [1 1; 2 3; 3 2] #Couts unitaires par entrepôt\n",
    "D = [1 0 0; 0 2 1] #Couts d'expédition d'un colis\n",
    "\n",
    "# set optimizer\n",
    "model = Model(Cbc.Optimizer)\n",
    "\n",
    "# define variables\n",
    "@variable(model, M[1:3,1:2,1:2] >= 0)\n",
    "@variable(model, Z[1:3,1:2], Bin)\n",
    "\n",
    "# define objective function\n",
    "@objective(model, Min, sum((M[:,:,1] + M[:,:,2]).*C + transpose(D).*Z))\n",
    "\n",
    "# define constraints\n",
    "for i in 1:3\n",
    "    for j in 1:2\n",
    "        @constraint(model, M[i,j,1] + M[i,j,2] - B[i,j] <= 0)\n",
    "        @constraint(model, M[i,j,1] in MOI.Integer())\n",
    "        @constraint(model, M[i,j,2] in MOI.Integer())\n",
    "    end\n",
    "end\n",
    "\n",
    "#Bonne répartition des fluides 1 et 2 sur les magasins\n",
    "for i in 1:2\n",
    "    for j in 1:2\n",
    "        @constraint(model, sum(M[:,j,i]) == A[i,j])\n",
    "    end\n",
    "end\n",
    "\n",
    "# La matrice Z est binaire.\n",
    "# Si Z[i,j] = 1, le magasin i va expédier un colier au demandeur j, sinon Z[i,j] = 0\n",
    "for i in 1:3\n",
    "    for j in 1:2\n",
    "        @constraint(model, sum(M[i,:,j])/(sum(A[j,:])) <= Z[i,j])\n",
    "        @constraint(model,Z[i,j] <= sum(M[i,:,j]))\n",
    "    end\n",
    "end\n",
    "\n",
    "# run optimization\n",
    "optimize!(model)"
   ]
  },
  {
   "cell_type": "code",
   "execution_count": 3,
   "metadata": {},
   "outputs": [
    {
     "data": {
      "text/plain": [
       "3×2 Array{Float64,2}:\n",
       " 1.0  1.0\n",
       " 1.0  1.0\n",
       " 0.0  1.0"
      ]
     },
     "execution_count": 3,
     "metadata": {},
     "output_type": "execute_result"
    }
   ],
   "source": [
    "JuMP.value.(Z)"
   ]
  },
  {
   "cell_type": "code",
   "execution_count": null,
   "metadata": {},
   "outputs": [],
   "source": []
  }
 ],
 "metadata": {
  "kernelspec": {
   "display_name": "Julia 1.5.2",
   "language": "julia",
   "name": "julia-1.5"
  },
  "language_info": {
   "file_extension": ".jl",
   "mimetype": "application/julia",
   "name": "julia",
   "version": "1.5.2"
  }
 },
 "nbformat": 4,
 "nbformat_minor": 4
}
