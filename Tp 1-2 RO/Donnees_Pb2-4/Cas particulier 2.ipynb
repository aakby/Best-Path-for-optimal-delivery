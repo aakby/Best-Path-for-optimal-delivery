{
 "cells": [
  {
   "cell_type": "code",
   "execution_count": 15,
   "metadata": {},
   "outputs": [
    {
     "name": "stdout",
     "output_type": "stream",
     "text": [
      "Welcome to the CBC MILP Solver \n",
      "Version: 2.10.3 \n",
      "Build Date: Jan  1 1970 \n",
      "\n",
      "command line - Cbc_C_Interface -solve -quit (default strategy 1)\n",
      "Continuous objective value is 9.5 - 0.00 seconds\n",
      "Cgl0004I processed model has 2 rows, 6 columns (6 integer (3 of which binary)) and 6 elements\n",
      "Cbc0012I Integer solution of 10 found by DiveCoefficient after 0 iterations and 0 nodes (0.02 seconds)\n",
      "Cbc0001I Search completed - best objective 10, took 0 iterations and 0 nodes (0.02 seconds)\n",
      "Cbc0035I Maximum depth 0, 0 variables fixed on reduced cost\n",
      "Cuts at root node changed objective from 10 to 10\n",
      "Probing was tried 0 times and created 0 cuts of which 0 were active after adding rounds of cuts (0.000 seconds)\n",
      "Gomory was tried 0 times and created 0 cuts of which 0 were active after adding rounds of cuts (0.000 seconds)\n",
      "Knapsack was tried 0 times and created 0 cuts of which 0 were active after adding rounds of cuts (0.000 seconds)\n",
      "Clique was tried 0 times and created 0 cuts of which 0 were active after adding rounds of cuts (0.000 seconds)\n",
      "MixedIntegerRounding2 was tried 0 times and created 0 cuts of which 0 were active after adding rounds of cuts (0.000 seconds)\n",
      "FlowCover was tried 0 times and created 0 cuts of which 0 were active after adding rounds of cuts (0.000 seconds)\n",
      "TwoMirCuts was tried 0 times and created 0 cuts of which 0 were active after adding rounds of cuts (0.000 seconds)\n",
      "ZeroHalf was tried 0 times and created 0 cuts of which 0 were active after adding rounds of cuts (0.000 seconds)\n",
      "\n",
      "Result - Optimal solution found\n",
      "\n",
      "Objective value:                10.00000000\n",
      "Enumerated nodes:               0\n",
      "Total iterations:               0\n",
      "Time (CPU seconds):             0.02\n",
      "Time (Wallclock seconds):       0.02\n",
      "\n",
      "Total time (CPU seconds):       0.02   (Wallclock seconds):       0.02\n",
      "\n"
     ]
    }
   ],
   "source": [
    "# fonctionne pour JuMP version 0.21.5\n",
    "using Cbc\n",
    "using JuMP\n",
    "\n",
    "# data\n",
    "A = [2 0; 1 3] # fluides demandés par commande\n",
    "B = [2.5 1; 1 2; 2 1] #Stocks de fluides par magasin\n",
    "C = [1 1; 2 3; 3 2] #Couts unitaires par entrepôt\n",
    "\n",
    "# set optimizer\n",
    "model = Model(Cbc.Optimizer)\n",
    "\n",
    "# define variables\n",
    "@variable(model, M[1:3,1:2] >= 0)\n",
    "\n",
    "# define objective function\n",
    "@objective(model, Min, sum(M.*C))\n",
    "\n",
    "# define constraints\n",
    "for i in 1:3\n",
    "    for j in 1:2\n",
    "        @constraint(model, M[i,j] - B[i,j] <= 0)\n",
    "        @constraint(model, M[i,j] in MOI.Integer())\n",
    "    end\n",
    "end\n",
    "\n",
    "#Bonne répartition des fluides 1 et 2 sur les magasins\n",
    "@constraint(model, sum(M[:,1]) - sum(A[:,1]) == 0)\n",
    "@constraint(model, sum(M[:,2]) - sum(A[:,2]) == 0)\n",
    "\n",
    "# run optimization\n",
    "optimize!(model)"
   ]
  },
  {
   "cell_type": "code",
   "execution_count": 16,
   "metadata": {},
   "outputs": [
    {
     "name": "stdout",
     "output_type": "stream",
     "text": [
      "Solution obtenue:\n",
      "\t benefice = 10.0\n",
      "\t la répartition du fluide 1 sur les magasins 1 = 2.0\n",
      "\t la répartition du fluide 2 sur les magasins 1 = 1.0\n",
      "\t la répartition du fluide 1 sur les magasins 2 = 1.0\n",
      "\t la répartition du fluide 2 sur les magasins 2 = 1.0\n",
      "\t la répartition du fluide 1 sur les magasins 3 = 0.0\n",
      "\t la répartition du fluide 2 sur les magasins 3 = 1.0\n"
     ]
    }
   ],
   "source": [
    "# print solution\n",
    "println(\"Solution obtenue:\")\n",
    "println(\"\\t benefice = $(objective_value(model))\")\n",
    "for i in 1:3\n",
    "    for j in 1:2\n",
    "        println(\"\\t la répartition du fluide $j sur les magasins $i = $(value(M[i,j]))\")\n",
    "    end\n",
    "end"
   ]
  },
  {
   "cell_type": "code",
   "execution_count": null,
   "metadata": {},
   "outputs": [],
   "source": []
  }
 ],
 "metadata": {
  "kernelspec": {
   "display_name": "Julia 1.5.2",
   "language": "julia",
   "name": "julia-1.5"
  },
  "language_info": {
   "file_extension": ".jl",
   "mimetype": "application/julia",
   "name": "julia",
   "version": "1.5.2"
  }
 },
 "nbformat": 4,
 "nbformat_minor": 4
}
