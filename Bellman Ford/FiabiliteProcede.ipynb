{
 "cells": [
  {
   "cell_type": "code",
   "execution_count": 2,
   "metadata": {},
   "outputs": [
    {
     "data": {
      "text/plain": [
       "13×13 Array{Float64,2}:\n",
       "  0.0   0.98   0.97   0.99  Inf    …  Inf    Inf    Inf    Inf    Inf\n",
       " Inf    0.0   Inf    Inf     0.96     Inf    Inf    Inf    Inf    Inf\n",
       " Inf   Inf     0.0   Inf    Inf       Inf    Inf    Inf    Inf    Inf\n",
       " Inf   Inf    Inf     0.0   Inf       Inf    Inf    Inf    Inf    Inf\n",
       " Inf   Inf    Inf    Inf     0.0       0.99  Inf    Inf    Inf    Inf\n",
       " Inf   Inf    Inf    Inf    Inf    …   0.96  Inf    Inf    Inf    Inf\n",
       " Inf   Inf    Inf    Inf    Inf        0.97   0.98  Inf    Inf    Inf\n",
       " Inf   Inf    Inf    Inf    Inf       Inf     0.99  Inf    Inf    Inf\n",
       " Inf   Inf    Inf    Inf    Inf        0.0   Inf     0.98   0.99  Inf\n",
       " Inf   Inf    Inf    Inf    Inf       Inf     0.0    0.96   0.99  Inf\n",
       " Inf   Inf    Inf    Inf    Inf    …  Inf    Inf     0.0   Inf     0.99\n",
       " Inf   Inf    Inf    Inf    Inf       Inf    Inf    Inf     0.0    0.93\n",
       " Inf   Inf    Inf    Inf    Inf       Inf    Inf    Inf    Inf     0.0"
      ]
     },
     "execution_count": 2,
     "metadata": {},
     "output_type": "execute_result"
    }
   ],
   "source": [
    "V = [\"MP\",\"S1\",\"S2\",\"S3\",\"A1\",\"A2\",\"A3\",\"A4\",\"D1\",\"D2\",\"FG\",\"FX\",\"PF\"]\n",
    "w = [0 0.98 0.97 0.99 Inf Inf Inf Inf Inf Inf Inf Inf Inf;\n",
    "    Inf 0 Inf Inf 0.96 0.95 Inf Inf Inf Inf Inf Inf Inf;\n",
    "    Inf Inf 0 Inf Inf 0.97 0.98 Inf Inf Inf Inf Inf Inf;\n",
    "    Inf Inf Inf 0 Inf Inf 0.95 0.93 Inf Inf Inf Inf Inf;\n",
    "    Inf Inf Inf Inf 0 Inf Inf Inf 0.99 Inf Inf Inf Inf;\n",
    "    Inf Inf Inf Inf Inf 0 Inf Inf 0.96 Inf Inf Inf Inf;\n",
    "    Inf Inf Inf Inf Inf Inf 0 Inf 0.97 0.98 Inf Inf Inf;\n",
    "    Inf Inf Inf Inf Inf Inf Inf 0 Inf 0.99 Inf Inf Inf;\n",
    "    Inf Inf Inf Inf Inf Inf Inf Inf 0 Inf 0.98 0.99 Inf;\n",
    "    Inf Inf Inf Inf Inf Inf Inf Inf Inf 0 0.96 0.99 Inf;\n",
    "    Inf Inf Inf Inf Inf Inf Inf Inf Inf Inf 0 Inf 0.99;\n",
    "    Inf Inf Inf Inf Inf Inf Inf Inf Inf Inf Inf 0 0.93;\n",
    "    Inf Inf Inf Inf Inf Inf Inf Inf Inf Inf Inf Inf 0]"
   ]
  },
  {
   "cell_type": "code",
   "execution_count": 1,
   "metadata": {},
   "outputs": [
    {
     "data": {
      "text/plain": [
       "FiabiliteProcede_log (generic function with 1 method)"
      ]
     },
     "execution_count": 1,
     "metadata": {},
     "output_type": "execute_result"
    }
   ],
   "source": [
    "function FiabiliteProcede_log(V,w)\n",
    "    D = log.(w[1,:])\n",
    "    path = [\"\" for i in 1:length(V)]\n",
    "    for t in 1:length(V)\n",
    "        for x in 1:length(V)\n",
    "            if w[x, t] != Inf\n",
    "                if max(D[t], D[x] + log(w[x, t])) != Inf\n",
    "                    if D[x] + log(w[x, t]) >= D[t] && x!=t\n",
    "                        path[t] = V[x]\n",
    "                    end\n",
    "                    D[t] = max(D[t], D[x] + log(w[x, t]))\n",
    "                else\n",
    "                    if D[t] >= D[x] + log(w[x, t]) && x!=t\n",
    "                        path[t] = V[x]\n",
    "                    end\n",
    "                    D[t] = min(D[t], D[x] + log(w[x, t]))\n",
    "                end\n",
    "            end\n",
    "        end\n",
    "        if D[t] == Inf\n",
    "            path[t] = \"None\"\n",
    "        else\n",
    "            path[t] *= V[t]\n",
    "        end\n",
    "    end\n",
    "    for t in 1:length(V)\n",
    "        while path[t] != \"None\" && path[t][1:2] != V[1]\n",
    "            precendent = findall(x->x==path[t][1:2], V)[1] # the precedent node\n",
    "            path[t] = path[precendent][1:length(path[precendent])-2]*path[t]\n",
    "        end\n",
    "    end\n",
    "    return exp(D[length(D)]),path[length(path)]\n",
    "end"
   ]
  },
  {
   "cell_type": "code",
   "execution_count": null,
   "metadata": {},
   "outputs": [],
   "source": [
    "d, p = FiabiliteProcede_log(V,w)\n",
    "i = 1\n",
    "print(\"Le procédé de fabrication de plus sur est : $(V[1]) -> \")\n",
    "while i <= length(p)-2\n",
    "    print(\"$(p[i])$(p[i+1]) -> \")\n",
    "    i += 2\n",
    "end\n",
    "print(\"$(p[i])$(p[i+1]) , avec une probabilité $(round(d,digits=4)) de succès.\")"
   ]
  },
  {
   "cell_type": "code",
   "execution_count": 1,
   "metadata": {},
   "outputs": [
    {
     "data": {
      "text/plain": [
       "FiabiliteProcede (generic function with 1 method)"
      ]
     },
     "execution_count": 1,
     "metadata": {},
     "output_type": "execute_result"
    }
   ],
   "source": [
    "function FiabiliteProcede(V,w)\n",
    "    D = w[1,:]\n",
    "    path = [\"\" for i in 1:length(V)]\n",
    "    for t in 1:length(V)\n",
    "        for x in 1:length(V)\n",
    "            if w[x, t] != Inf\n",
    "                if max(D[t], D[x] * w[x, t]) != Inf\n",
    "                    if D[x] * w[x, t] >= D[t] && x!=t\n",
    "                        path[t] = V[x]\n",
    "                    end\n",
    "                    D[t] = max(D[t], D[x] * w[x, t])\n",
    "                else\n",
    "                    if D[t] >= D[x] * w[x, t] && x!=t\n",
    "                        path[t] = V[x]\n",
    "                    end\n",
    "                    D[t] = min(D[t], D[x] * w[x, t])\n",
    "                end\n",
    "            end\n",
    "        end\n",
    "        if D[t] == Inf\n",
    "            path[t] = \"None\"\n",
    "        else\n",
    "            path[t] *= V[t]\n",
    "        end\n",
    "    end\n",
    "    for t in 1:length(V)\n",
    "        while path[t] != \"None\" && path[t][1:2] != V[1]\n",
    "            precendent = findall(x->x==path[t][1:2], V)[1]\n",
    "            path[t] = path[precendent][1:length(path[precendent])-2]*path[t]\n",
    "        end\n",
    "    end\n",
    "    return exp(D[length(D)]),path[length(path)]\n",
    "end"
   ]
  },
  {
   "cell_type": "code",
   "execution_count": null,
   "metadata": {},
   "outputs": [],
   "source": [
    "FiabiliteProcede(V,w)"
   ]
  },
  {
   "cell_type": "code",
   "execution_count": null,
   "metadata": {},
   "outputs": [],
   "source": []
  }
 ],
 "metadata": {
  "kernelspec": {
   "display_name": "Julia 1.5.2",
   "language": "julia",
   "name": "julia-1.5"
  },
  "language_info": {
   "file_extension": ".jl",
   "mimetype": "application/julia",
   "name": "julia",
   "version": "1.5.2"
  }
 },
 "nbformat": 4,
 "nbformat_minor": 4
}
