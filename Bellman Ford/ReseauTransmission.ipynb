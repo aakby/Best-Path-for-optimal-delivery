{
 "cells": [
  {
   "cell_type": "code",
   "execution_count": 6,
   "metadata": {},
   "outputs": [
    {
     "data": {
      "text/plain": [
       "ReseauTransmission (generic function with 1 method)"
      ]
     },
     "execution_count": 6,
     "metadata": {},
     "output_type": "execute_result"
    }
   ],
   "source": [
    "function ReseauTransmission(V, w, s)\n",
    "    D = w[findall(x->x==s, V)[1],:]\n",
    "    for k in 1:2\n",
    "        for t in 1:length(V)\n",
    "            for x in 1:length(V)\n",
    "                if w[x, t] != Inf\n",
    "                    if D[t] != Inf && D[x] != Inf\n",
    "                        D[t] = max(D[t], min(D[x], w[x, t]))\n",
    "                    elseif D[t] == Inf && D[x] != Inf\n",
    "                        D[t] = min(D[x], w[x, t])\n",
    "                    end\n",
    "                end\n",
    "            end\n",
    "        end\n",
    "    end\n",
    "    return D\n",
    "end"
   ]
  },
  {
   "cell_type": "code",
   "execution_count": 7,
   "metadata": {},
   "outputs": [
    {
     "data": {
      "text/plain": [
       "7×7 Array{Float64,2}:\n",
       " Inf    5.0  Inf   Inf    1.0  Inf    3.0\n",
       "  5.0  Inf    4.0  Inf   Inf   Inf   Inf\n",
       " Inf    4.0  Inf    1.0   2.0   2.0  Inf\n",
       " Inf   Inf    1.0  Inf   Inf    2.0  Inf\n",
       "  1.0  Inf    2.0  Inf   Inf    3.0   5.0\n",
       " Inf   Inf    2.0   2.0   3.0  Inf   Inf\n",
       "  3.0  Inf   Inf   Inf    5.0  Inf   Inf"
      ]
     },
     "execution_count": 7,
     "metadata": {},
     "output_type": "execute_result"
    }
   ],
   "source": [
    "V = ['A', 'B', 'C', 'D', 'E', 'F', 'G']\n",
    "w = [Inf 5 Inf Inf 1 Inf 3;\n",
    "    5 Inf 4 Inf Inf Inf Inf;\n",
    "    Inf 4 Inf 1 2 2 Inf;\n",
    "    Inf Inf 1 Inf Inf 2 Inf;\n",
    "    1 Inf 2 Inf Inf 3 5;\n",
    "    Inf Inf 2 2 3 Inf Inf;\n",
    "    3 Inf Inf Inf 5 Inf Inf]"
   ]
  },
  {
   "cell_type": "code",
   "execution_count": 9,
   "metadata": {},
   "outputs": [
    {
     "data": {
      "text/plain": [
       "7-element Array{Float64,1}:\n",
       " 5.0\n",
       " 5.0\n",
       " 4.0\n",
       " 2.0\n",
       " 3.0\n",
       " 3.0\n",
       " 3.0"
      ]
     },
     "execution_count": 9,
     "metadata": {},
     "output_type": "execute_result"
    }
   ],
   "source": [
    "ReseauTransmission(V, w, 'A')"
   ]
  }
 ],
 "metadata": {
  "kernelspec": {
   "display_name": "Julia 1.5.2",
   "language": "julia",
   "name": "julia-1.5"
  },
  "language_info": {
   "file_extension": ".jl",
   "mimetype": "application/julia",
   "name": "julia",
   "version": "1.5.2"
  }
 },
 "nbformat": 4,
 "nbformat_minor": 4
}
