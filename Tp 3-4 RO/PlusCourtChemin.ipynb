{
 "cells": [
  {
   "cell_type": "code",
   "execution_count": 9,
   "metadata": {},
   "outputs": [
    {
     "data": {
      "text/plain": [
       "PlusCourtChemin (generic function with 1 method)"
      ]
     },
     "execution_count": 9,
     "metadata": {},
     "output_type": "execute_result"
    }
   ],
   "source": [
    "# V is the vector of vertices\n",
    "# w is the matrix of weights between all the vertices in the graph\n",
    "# s is the source vertex\n",
    "function PlusCourtChemin(V, w, s)\n",
    "    # D is the vector of distances between the source and other vertices\n",
    "    D = w[findall(x->x==s, V)[1],:]\n",
    "    # path is the path between the source and other vertices\n",
    "    path = [\"\" for i in 1:length(D)]\n",
    "    for t in 1:length(V)\n",
    "        for x in 1:length(V)\n",
    "            if D[t] >= D[x] + w[x, t] && w[x, t] != Inf && x!=t\n",
    "                path[t] = string(V[x])\n",
    "            end\n",
    "            # Compare the distance between s and t with the sum of the distances between s and x, and x and t.\n",
    "            # The new \"best\" path is the smallest between the two.\n",
    "            D[t] = min(D[t], D[x] + w[x, t])\n",
    "        end\n",
    "        if D[t] == Inf\n",
    "            path[t] = \"None\"\n",
    "        else\n",
    "            path[t] *= V[t]\n",
    "        end\n",
    "    end\n",
    "    for t in 1:length(V)\n",
    "        # In the vector path : For each node, we have his precedent node in the best path\n",
    "        # Now we have to do the path in reverse for each node\n",
    "        while path[t] != \"None\" && path[t][1] != s\n",
    "            precendent = findall(x->x==path[t][1], V)[1] # the precedent node\n",
    "            path[t] = path[precendent][1:length(path[precendent])-1]*path[t]\n",
    "        end\n",
    "    end\n",
    "    return D,path\n",
    "end"
   ]
  },
  {
   "cell_type": "code",
   "execution_count": 10,
   "metadata": {},
   "outputs": [
    {
     "data": {
      "text/plain": [
       "6×6 Array{Float64,2}:\n",
       "  0.0   3.0  Inf   Inf    5.0  Inf\n",
       " Inf    0.0   4.0  Inf   Inf   Inf\n",
       " Inf   Inf    0.0   2.0  Inf   Inf\n",
       " Inf   Inf   Inf    0.0  Inf    3.0\n",
       " Inf   -1.0  Inf    9.0   0.0  Inf\n",
       " Inf   Inf   Inf   Inf   Inf    0.0"
      ]
     },
     "execution_count": 10,
     "metadata": {},
     "output_type": "execute_result"
    }
   ],
   "source": [
    "V = ['A', 'B', 'C', 'D', 'E', 'F']\n",
    "w = [0 3 Inf Inf 5 Inf;\n",
    "    Inf 0 4 Inf Inf Inf;\n",
    "    Inf Inf 0 2 Inf Inf;\n",
    "    Inf Inf Inf 0 Inf 3;\n",
    "    Inf -1 Inf 9 0 Inf;\n",
    "    Inf Inf Inf Inf Inf 0]"
   ]
  },
  {
   "cell_type": "code",
   "execution_count": 11,
   "metadata": {},
   "outputs": [
    {
     "data": {
      "text/plain": [
       "draw_path (generic function with 1 method)"
      ]
     },
     "execution_count": 11,
     "metadata": {},
     "output_type": "execute_result"
    }
   ],
   "source": [
    "function draw_path(s)\n",
    "    for p in 1:length(path)\n",
    "        if path[p] == \"\"\n",
    "            println(\"Il n'y a pas de chemin possible qui relie $s et $(V[p]).\")\n",
    "        else\n",
    "            print(\"Le plus court chemin de $s vers $(V[p]) coute $(D[p]) : \")\n",
    "            i=1\n",
    "            while i < length(path[p])\n",
    "                print(\"$(path[p][i]) --> \")\n",
    "                i += 1\n",
    "            end\n",
    "            println(\"$(path[p][i]).\")\n",
    "        end\n",
    "    end\n",
    "end"
   ]
  },
  {
   "cell_type": "code",
   "execution_count": 13,
   "metadata": {},
   "outputs": [
    {
     "name": "stdout",
     "output_type": "stream",
     "text": [
      "Le plus court chemin de A vers A coute 0.0 : A.\n",
      "Le plus court chemin de A vers B coute 3.0 : A --> B.\n",
      "Le plus court chemin de A vers C coute 7.0 : A --> B --> C.\n",
      "Le plus court chemin de A vers D coute 9.0 : A --> B --> C --> D.\n",
      "Le plus court chemin de A vers E coute 5.0 : A --> E.\n",
      "Le plus court chemin de A vers F coute 12.0 : A --> B --> C --> D --> F.\n"
     ]
    }
   ],
   "source": [
    "s = 'A'\n",
    "D, path = PlusCourtChemin(V, w, s)\n",
    "draw_path(s)"
   ]
  },
  {
   "cell_type": "code",
   "execution_count": null,
   "metadata": {},
   "outputs": [],
   "source": []
  }
 ],
 "metadata": {
  "kernelspec": {
   "display_name": "Julia 1.5.2",
   "language": "julia",
   "name": "julia-1.5"
  },
  "language_info": {
   "file_extension": ".jl",
   "mimetype": "application/julia",
   "name": "julia",
   "version": "1.5.2"
  }
 },
 "nbformat": 4,
 "nbformat_minor": 4
}
