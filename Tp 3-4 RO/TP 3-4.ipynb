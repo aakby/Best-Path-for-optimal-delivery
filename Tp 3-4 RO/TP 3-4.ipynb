{
 "cells": [
  {
   "cell_type": "markdown",
   "metadata": {},
   "source": [
    "<center>\n",
    "<h1> TP 1-2 de Recherche opérationnelle </h1>\n",
    "<h1> Année 2020-2021 - 2e année département Sciences du Numérique </h1>\n",
    "<h1> EL BOUCHIBTI Aymane</h1>\n",
    "<h1> AKBY Amine </h1>    \n",
    "</center>"
   ]
  },
  {
   "cell_type": "markdown",
   "metadata": {},
   "source": [
    "# Calcul du plus court chemin entre deux sommets d’un graphe\n",
    "\n",
    "On implémente l'algorithme de Bellman Ford pour trouver le meilleur chemin entre deux sommets d'un graphe.\n",
    "Cet algorithme consiste à comparer dynamiquement la distance directe entre deux sommets avec la distance en passant par d'autres sommets. Le meilleur chemin entre deux sommets est le chemin qui avec la distance la plus petite."
   ]
  },
  {
   "cell_type": "code",
   "execution_count": 1,
   "metadata": {},
   "outputs": [
    {
     "data": {
      "text/plain": [
       "PlusCourtChemin (generic function with 1 method)"
      ]
     },
     "execution_count": 1,
     "metadata": {},
     "output_type": "execute_result"
    }
   ],
   "source": [
    "# V is the vector of vertices\n",
    "# w is the matrix of weights between all the vertices in the graph\n",
    "# s is the source vertex\n",
    "function PlusCourtChemin(V, w, s)\n",
    "    # D is the vector of distances between the source and other vertices\n",
    "    D = w[findall(x->x==s, V)[1],:]\n",
    "    # path is the path between the source and other vertices\n",
    "    path = [\"\" for i in 1:length(D)]\n",
    "    for t in 1:length(V)\n",
    "        for x in 1:length(V)\n",
    "            if D[t] >= D[x] + w[x, t] && w[x, t] != Inf && x!=t\n",
    "                path[t] = string(V[x])\n",
    "            end\n",
    "            # Compare the distance between s and t with the sum of the distances between s and x, and x and t.\n",
    "            # The new \"best\" path is the smallest between the two.\n",
    "            D[t] = min(D[t], D[x] + w[x, t])\n",
    "        end\n",
    "        if D[t] == Inf\n",
    "            path[t] = \"None\"\n",
    "        else\n",
    "            path[t] *= V[t]\n",
    "        end\n",
    "    end\n",
    "    for t in 1:length(V)\n",
    "        # In the vector chemin : For each node, we have his precedent node in the best path\n",
    "        # Now we have to do the path in reverse for each node\n",
    "        while path[t] != \"None\" && path[t][1] != s\n",
    "            precendent = findall(x->x==path[t][1], V)[1] # the precedent node\n",
    "            path[t] = path[precendent][1:length(path[precendent])-1]*path[t]\n",
    "        end\n",
    "    end\n",
    "    return D,path\n",
    "end"
   ]
  },
  {
   "cell_type": "code",
   "execution_count": 2,
   "metadata": {},
   "outputs": [
    {
     "data": {
      "text/plain": [
       "6×6 Array{Float64,2}:\n",
       "  0.0   3.0  Inf   Inf    5.0  Inf\n",
       " Inf    0.0   4.0  Inf   Inf   Inf\n",
       " Inf   Inf    0.0   2.0  Inf   Inf\n",
       " Inf   Inf   Inf    0.0  Inf    3.0\n",
       " Inf   -1.0  Inf    9.0   0.0  Inf\n",
       " Inf   Inf   Inf   Inf   Inf    0.0"
      ]
     },
     "execution_count": 2,
     "metadata": {},
     "output_type": "execute_result"
    }
   ],
   "source": [
    "V = ['A', 'B', 'C', 'D', 'E', 'F']\n",
    "w = [0 3 Inf Inf 5 Inf;\n",
    "    Inf 0 4 Inf Inf Inf;\n",
    "    Inf Inf 0 2 Inf Inf;\n",
    "    Inf Inf Inf 0 Inf 3;\n",
    "    Inf -1 Inf 9 0 Inf;\n",
    "    Inf Inf Inf Inf Inf 0]"
   ]
  },
  {
   "cell_type": "code",
   "execution_count": 5,
   "metadata": {},
   "outputs": [
    {
     "data": {
      "text/plain": [
       "draw_path (generic function with 1 method)"
      ]
     },
     "execution_count": 5,
     "metadata": {},
     "output_type": "execute_result"
    }
   ],
   "source": [
    "function draw_path(s)\n",
    "    for p in 1:length(path)\n",
    "        if path[p] == \"None\"\n",
    "            println(\"Il n'y a pas de chemin possible qui relie $s et $(V[p]).\")\n",
    "        else\n",
    "            print(\"Le plus court chemin de $s vers $(V[p]) coute $(D[p]) : \")\n",
    "            i=1\n",
    "            while i < length(path[p])\n",
    "                print(\"$(path[p][i]) --> \")\n",
    "                i += 1\n",
    "            end\n",
    "            println(\"$(path[p][i]).\")\n",
    "        end\n",
    "    end\n",
    "end"
   ]
  },
  {
   "cell_type": "code",
   "execution_count": 6,
   "metadata": {},
   "outputs": [
    {
     "name": "stdout",
     "output_type": "stream",
     "text": [
      "Il n'y a pas de chemin possible qui relie E et A.\n",
      "Le plus court chemin de E vers B coute -1.0 : E --> B.\n",
      "Le plus court chemin de E vers C coute 3.0 : E --> B --> C.\n",
      "Le plus court chemin de E vers D coute 5.0 : E --> B --> C --> D.\n",
      "Le plus court chemin de E vers E coute 0.0 : E.\n",
      "Le plus court chemin de E vers F coute 8.0 : E --> B --> C --> D --> F.\n"
     ]
    }
   ],
   "source": [
    "s = 'E'\n",
    "D, path = PlusCourtChemin(V, w, s)\n",
    "draw_path(s)"
   ]
  },
  {
   "cell_type": "markdown",
   "metadata": {},
   "source": [
    "# Calcul du plus long chemin entre deux sommets d’un graphe\n",
    "\n",
    "On modifie l'algorithme de Bellman Ford pour trouver le plus long chemin entre deux sommets d'un graphe.\n",
    "On compare dynamiquement la distance directe entre deux sommets avec la distance en passant par d'autres sommets. Le chemin le plus long entre deux sommets est le chemin qui avec la distance la plus longue mais pas infinie."
   ]
  },
  {
   "cell_type": "code",
   "execution_count": 5,
   "metadata": {},
   "outputs": [
    {
     "data": {
      "text/plain": [
       "PlusLongChemin (generic function with 1 method)"
      ]
     },
     "execution_count": 5,
     "metadata": {},
     "output_type": "execute_result"
    }
   ],
   "source": [
    "function PlusLongChemin(V, w, s)\n",
    "    D = w[findall(x->x==s, V)[1],:]\n",
    "    path = [\"\" for i in 1:length(D)]\n",
    "    for t in 1:length(V)\n",
    "        for x in 1:length(V)\n",
    "            if max(D[t], D[x] + w[x, t]) != Inf\n",
    "                if D[x] + w[x, t] >= D[t] && x!=t\n",
    "                    path[t] = string(V[x])\n",
    "                end\n",
    "                D[t] = max(D[t], D[x] + w[x, t])\n",
    "            else\n",
    "                if D[t] >= D[x] + w[x, t] && x!=t\n",
    "                    path[t] = string(V[x])\n",
    "                end\n",
    "                D[t] = min(D[t], D[x] + w[x, t])\n",
    "            end\n",
    "        end\n",
    "        if D[t] == Inf\n",
    "            path[t] = \"None\"\n",
    "        else\n",
    "            path[t] *= V[t]\n",
    "        end\n",
    "    end\n",
    "    for t in 1:length(V)\n",
    "        while path[t] != \"None\" && path[t][1] != s\n",
    "            precendent = findall(x->x==path[t][1], V)[1]\n",
    "            path[t] = path[precendent][1:length(path[precendent])-1]*path[t]\n",
    "        end\n",
    "    end\n",
    "    return D, path\n",
    "end"
   ]
  },
  {
   "cell_type": "code",
   "execution_count": 6,
   "metadata": {},
   "outputs": [
    {
     "data": {
      "text/plain": [
       "6×6 Array{Float64,2}:\n",
       "  0.0   3.0  Inf   Inf    5.0  Inf\n",
       " Inf    0.0   4.0  Inf   Inf   Inf\n",
       " Inf   Inf    0.0   2.0  Inf   Inf\n",
       " Inf   Inf   Inf    0.0  Inf    3.0\n",
       " Inf   -1.0  Inf    9.0   0.0  Inf\n",
       " Inf   Inf   Inf   Inf   Inf    0.0"
      ]
     },
     "execution_count": 6,
     "metadata": {},
     "output_type": "execute_result"
    }
   ],
   "source": [
    "V = ['A', 'B', 'C', 'D', 'E', 'F']\n",
    "w = [0 3 Inf Inf 5 Inf;\n",
    "    Inf 0 4 Inf Inf Inf;\n",
    "    Inf Inf 0 2 Inf Inf;\n",
    "    Inf Inf Inf 0 Inf 3;\n",
    "    Inf -1 Inf 9 0 Inf;\n",
    "    Inf Inf Inf Inf Inf 0]"
   ]
  },
  {
   "cell_type": "code",
   "execution_count": 7,
   "metadata": {},
   "outputs": [
    {
     "data": {
      "text/plain": [
       "draw_path (generic function with 1 method)"
      ]
     },
     "execution_count": 7,
     "metadata": {},
     "output_type": "execute_result"
    }
   ],
   "source": [
    "function draw_path(s)\n",
    "    for p in 1:length(path)\n",
    "        if path[p] == \"\"\n",
    "            println(\"Il n'y a pas de chemin possible qui relie $s et $(V[p]).\")\n",
    "        else\n",
    "            print(\"Le plus long chemin de $s vers $(V[p]) coute $(D[p]) : \")\n",
    "            i=1\n",
    "            while i < length(path[p])\n",
    "                print(\"$(path[p][i]) --> \")\n",
    "                i += 1\n",
    "            end\n",
    "            println(\"$(path[p][i]).\")\n",
    "        end\n",
    "    end\n",
    "end"
   ]
  },
  {
   "cell_type": "code",
   "execution_count": 8,
   "metadata": {},
   "outputs": [
    {
     "name": "stdout",
     "output_type": "stream",
     "text": [
      "Le plus long chemin de A vers A coute 0.0 : A.\n",
      "Le plus long chemin de A vers B coute 4.0 : A --> E --> B.\n",
      "Le plus long chemin de A vers C coute 8.0 : A --> E --> B --> C.\n",
      "Le plus long chemin de A vers D coute 14.0 : A --> E --> D.\n",
      "Le plus long chemin de A vers E coute 5.0 : A --> E.\n",
      "Le plus long chemin de A vers F coute 17.0 : A --> E --> D --> F.\n"
     ]
    }
   ],
   "source": [
    "s = 'A'\n",
    "D, path = PlusLongChemin(V, w, s)\n",
    "draw_path(s)"
   ]
  },
  {
   "cell_type": "markdown",
   "metadata": {},
   "source": [
    "# Construction d’un réseau de transmission à vitesse maximale\n",
    "\n",
    "On modifie l'algorithme de Bellman Ford pour trouver la plus grande vitesse de transmission l entre deux sommets.\n",
    "Par exemple entre deux sommets i et j, la vitesse de transmission entre les deux sommets i et j en suivant un chemin particulier est la plus petite des valeurs rencontrés dans ce chemin. Cependant, nous voulons maximiser cette vitesse de transmission ce qui fait qu'on doit\n",
    "On compare dynamiquement la distance directe entre deux sommets avec la distance en passant par d'autres sommets. Le chemin le plus long entre deux sommets est le chemin qui avec la distance la plus longue mais pas infinie."
   ]
  },
  {
   "cell_type": "code",
   "execution_count": 9,
   "metadata": {},
   "outputs": [
    {
     "data": {
      "text/plain": [
       "ReseauTransmission (generic function with 1 method)"
      ]
     },
     "execution_count": 9,
     "metadata": {},
     "output_type": "execute_result"
    }
   ],
   "source": [
    "function ReseauTransmission(V, w, s)\n",
    "    D = w[findall(x->x==s, V)[1],:]\n",
    "    for k in 1:2\n",
    "    for t in 1:length(V)\n",
    "        for x in 1:length(V)\n",
    "            if w[x, t] != Inf\n",
    "                if D[t] != Inf && D[x] != Inf\n",
    "                    D[t] = max(D[t], min(D[x], w[x, t]))\n",
    "                elseif D[t] == Inf && D[x] != Inf\n",
    "                    D[t] = min(D[x], w[x, t])\n",
    "                end\n",
    "            end\n",
    "        end\n",
    "    end\n",
    "    end\n",
    "    return D\n",
    "end"
   ]
  },
  {
   "cell_type": "code",
   "execution_count": 10,
   "metadata": {},
   "outputs": [
    {
     "data": {
      "text/plain": [
       "7×7 Array{Float64,2}:\n",
       " Inf    5.0  Inf   Inf    1.0  Inf    3.0\n",
       "  5.0  Inf    4.0  Inf   Inf   Inf   Inf\n",
       " Inf    4.0  Inf    1.0   2.0   2.0  Inf\n",
       " Inf   Inf    1.0  Inf   Inf    2.0  Inf\n",
       "  1.0  Inf    2.0  Inf   Inf    3.0   5.0\n",
       " Inf   Inf    2.0   2.0   3.0  Inf   Inf\n",
       "  3.0  Inf   Inf   Inf    5.0  Inf   Inf"
      ]
     },
     "execution_count": 10,
     "metadata": {},
     "output_type": "execute_result"
    }
   ],
   "source": [
    "V = ['P', 'A', 'B', 'C', 'D', 'E', 'F']\n",
    "w = [Inf 5 Inf Inf 1 Inf 3;\n",
    "    5 Inf 4 Inf Inf Inf Inf;\n",
    "    Inf 4 Inf 1 2 2 Inf;\n",
    "    Inf Inf 1 Inf Inf 2 Inf;\n",
    "    1 Inf 2 Inf Inf 3 5;\n",
    "    Inf Inf 2 2 3 Inf Inf;\n",
    "    3 Inf Inf Inf 5 Inf Inf]"
   ]
  },
  {
   "cell_type": "code",
   "execution_count": 11,
   "metadata": {},
   "outputs": [
    {
     "name": "stdout",
     "output_type": "stream",
     "text": [
      "La vitesse de transmission maximale entre P et P est : 5.0.\n",
      "La vitesse de transmission maximale entre P et A est : 5.0.\n",
      "La vitesse de transmission maximale entre P et B est : 4.0.\n",
      "La vitesse de transmission maximale entre P et C est : 2.0.\n",
      "La vitesse de transmission maximale entre P et D est : 3.0.\n",
      "La vitesse de transmission maximale entre P et E est : 3.0.\n",
      "La vitesse de transmission maximale entre P et F est : 3.0.\n"
     ]
    }
   ],
   "source": [
    "s = 'P'\n",
    "D = ReseauTransmission(V, w, s)\n",
    "for i in 1:length(D)\n",
    "    println(\"La vitesse de transmission maximale entre $s et $(V[i]) est : $(D[i]).\")\n",
    "end"
   ]
  },
  {
   "cell_type": "markdown",
   "metadata": {},
   "source": [
    "# Fiabilité de procédé de fabrication de semi-conducteurs\n",
    "\n",
    "On utilise l'algorithme de BellmanFord pour déterminer le procédé de fabrication le plus sûr dans une entreprise.\n",
    "On applique l'algorithme de BellmanFord pour le plus long chemin sur le logarithme des coefficients.\n",
    "On utilise l'algorithme du plus long chemin pour trouver la probabilité la plus grande.\n",
    "Après tout calcul fait, on retourne l'exponnentielle du résultat du programme du plus long chemin."
   ]
  },
  {
   "cell_type": "code",
   "execution_count": 45,
   "metadata": {},
   "outputs": [
    {
     "data": {
      "text/plain": [
       "FiabiliteProcede_log (generic function with 1 method)"
      ]
     },
     "execution_count": 45,
     "metadata": {},
     "output_type": "execute_result"
    }
   ],
   "source": [
    "function FiabiliteProcede_log(V,w)\n",
    "    D = log.(w[1,:])\n",
    "    path = [\"\" for i in 1:length(V)]\n",
    "    for t in 1:length(V)\n",
    "        for x in 1:length(V)\n",
    "            if w[x, t] != Inf\n",
    "                if max(D[t], D[x] + log(w[x, t])) != Inf\n",
    "                    if D[x] + log(w[x, t]) >= D[t] && x!=t\n",
    "                        path[t] = V[x]\n",
    "                    end\n",
    "                    D[t] = max(D[t], D[x] + log(w[x, t]))\n",
    "                else\n",
    "                    if D[t] >= D[x] + log(w[x, t]) && x!=t\n",
    "                        path[t] = V[x]\n",
    "                    end\n",
    "                    D[t] = min(D[t], D[x] + log(w[x, t]))\n",
    "                end\n",
    "            end\n",
    "        end\n",
    "        path[t] *= V[t]\n",
    "    end\n",
    "    for t in 1:length(V)\n",
    "        precendent = findall(x->x==path[t][1:2], V)[1]\n",
    "        path[t] = path[precendent][1:length(path[precendent])-2]*path[t]\n",
    "    end\n",
    "    return exp(D[length(D)]),path[length(path)]\n",
    "end"
   ]
  },
  {
   "cell_type": "code",
   "execution_count": 46,
   "metadata": {},
   "outputs": [
    {
     "data": {
      "text/plain": [
       "13×13 Array{Float64,2}:\n",
       "  0.0   0.98   0.97   0.99  Inf    …  Inf    Inf    Inf    Inf    Inf\n",
       " Inf    0.0   Inf    Inf     0.96     Inf    Inf    Inf    Inf    Inf\n",
       " Inf   Inf     0.0   Inf    Inf       Inf    Inf    Inf    Inf    Inf\n",
       " Inf   Inf    Inf     0.0   Inf       Inf    Inf    Inf    Inf    Inf\n",
       " Inf   Inf    Inf    Inf     0.0       0.99  Inf    Inf    Inf    Inf\n",
       " Inf   Inf    Inf    Inf    Inf    …   0.96  Inf    Inf    Inf    Inf\n",
       " Inf   Inf    Inf    Inf    Inf        0.97   0.98  Inf    Inf    Inf\n",
       " Inf   Inf    Inf    Inf    Inf       Inf     0.99  Inf    Inf    Inf\n",
       " Inf   Inf    Inf    Inf    Inf        0.0   Inf     0.98   0.99  Inf\n",
       " Inf   Inf    Inf    Inf    Inf       Inf     0.0    0.96   0.99  Inf\n",
       " Inf   Inf    Inf    Inf    Inf    …  Inf    Inf     0.0   Inf     0.99\n",
       " Inf   Inf    Inf    Inf    Inf       Inf    Inf    Inf     0.0    0.93\n",
       " Inf   Inf    Inf    Inf    Inf       Inf    Inf    Inf    Inf     0.0"
      ]
     },
     "execution_count": 46,
     "metadata": {},
     "output_type": "execute_result"
    }
   ],
   "source": [
    "V = [\"MP\",\"S1\",\"S2\",\"S3\",\"A1\",\"A2\",\"A3\",\"A4\",\"D1\",\"D2\",\"FG\",\"FX\",\"PF\"]\n",
    "w = [0 0.98 0.97 0.99 Inf Inf Inf Inf Inf Inf Inf Inf Inf;\n",
    "    Inf 0 Inf Inf 0.96 0.95 Inf Inf Inf Inf Inf Inf Inf;\n",
    "    Inf Inf 0 Inf Inf 0.97 0.98 Inf Inf Inf Inf Inf Inf;\n",
    "    Inf Inf Inf 0 Inf Inf 0.95 0.93 Inf Inf Inf Inf Inf;\n",
    "    Inf Inf Inf Inf 0 Inf Inf Inf 0.99 Inf Inf Inf Inf;\n",
    "    Inf Inf Inf Inf Inf 0 Inf Inf 0.96 Inf Inf Inf Inf;\n",
    "    Inf Inf Inf Inf Inf Inf 0 Inf 0.97 0.98 Inf Inf Inf;\n",
    "    Inf Inf Inf Inf Inf Inf Inf 0 Inf 0.99 Inf Inf Inf;\n",
    "    Inf Inf Inf Inf Inf Inf Inf Inf 0 Inf 0.98 0.99 Inf;\n",
    "    Inf Inf Inf Inf Inf Inf Inf Inf Inf 0 0.96 0.99 Inf;\n",
    "    Inf Inf Inf Inf Inf Inf Inf Inf Inf Inf 0 Inf 0.99;\n",
    "    Inf Inf Inf Inf Inf Inf Inf Inf Inf Inf Inf 0 0.93;\n",
    "    Inf Inf Inf Inf Inf Inf Inf Inf Inf Inf Inf Inf 0]"
   ]
  },
  {
   "cell_type": "code",
   "execution_count": 47,
   "metadata": {},
   "outputs": [
    {
     "name": "stdout",
     "output_type": "stream",
     "text": [
      "Le procédé de fabrication de plus sur est : MP -> S1 -> A1 -> D1 -> FG -> PF , avec une probabilité 0.9036 de succès."
     ]
    }
   ],
   "source": [
    "d, p = FiabiliteProcede_log(V,w)\n",
    "i = 1\n",
    "print(\"Le procédé de fabrication de plus sur est : $(V[1]) -> \")\n",
    "while i <= (length(p)-2)\n",
    "    print(\"$(p[i])$(p[i+1]) -> \")\n",
    "    i += 2\n",
    "end\n",
    "print(\"$(p[i])$(p[i+1]) , avec une probabilité $(round(d,digits=4)) de succès.\")"
   ]
  },
  {
   "cell_type": "markdown",
   "metadata": {},
   "source": [
    "On adapte l'algorithme de BellmanFord pour déterminer le procédé de fabrication le plus sûr dans une entreprise.\n",
    "On remplace la somme dans l'algorithme de BellmanFord pour le plus long chemin par une multiplication."
   ]
  },
  {
   "cell_type": "code",
   "execution_count": 48,
   "metadata": {},
   "outputs": [
    {
     "data": {
      "text/plain": [
       "FiabiliteProcede (generic function with 1 method)"
      ]
     },
     "execution_count": 48,
     "metadata": {},
     "output_type": "execute_result"
    }
   ],
   "source": [
    "function FiabiliteProcede(V,w)\n",
    "    D = w[1,:]\n",
    "    path = [\"\" for i in 1:length(V)]\n",
    "    for t in 1:length(V)\n",
    "        for x in 1:length(V)\n",
    "            if w[x, t] != Inf\n",
    "                if max(D[t], D[x] * w[x, t]) != Inf\n",
    "                    if D[x] * w[x, t] >= D[t] && x!=t\n",
    "                        path[t] = V[x]\n",
    "                    end\n",
    "                    D[t] = max(D[t], D[x] * w[x, t])\n",
    "                else\n",
    "                    if D[t] >= D[x] * w[x, t] && x!=t\n",
    "                        path[t] = V[x]\n",
    "                    end\n",
    "                    D[t] = min(D[t], D[x] * w[x, t])\n",
    "                end\n",
    "            end\n",
    "        end\n",
    "        path[t] *= V[t]\n",
    "    end\n",
    "    for t in 1:length(V)\n",
    "        precendent = findall(x->x==path[t][1:2], V)[1]\n",
    "        path[t] = path[precendent][1:length(path[precendent])-2]*path[t]\n",
    "    end\n",
    "    return D[length(D)],path[length(path)]\n",
    "end"
   ]
  },
  {
   "cell_type": "code",
   "execution_count": 49,
   "metadata": {},
   "outputs": [
    {
     "name": "stdout",
     "output_type": "stream",
     "text": [
      "Le procédé de fabrication de plus sur est : MP -> S1 -> A1 -> D1 -> FG -> PF , avec une probabilité 0.9036 de succès."
     ]
    }
   ],
   "source": [
    "d, p = FiabiliteProcede(V,w)\n",
    "i = 1\n",
    "print(\"Le procédé de fabrication de plus sur est : $(V[1]) -> \")\n",
    "while i <= (length(p)-2)\n",
    "    print(\"$(p[i])$(p[i+1]) -> \")\n",
    "    i += 2\n",
    "end\n",
    "print(\"$(p[i])$(p[i+1]) , avec une probabilité $(round(d, digits=4)) de succès.\")"
   ]
  }
 ],
 "metadata": {
  "kernelspec": {
   "display_name": "Julia 1.5.2",
   "language": "julia",
   "name": "julia-1.5"
  },
  "language_info": {
   "file_extension": ".jl",
   "mimetype": "application/julia",
   "name": "julia",
   "version": "1.5.2"
  }
 },
 "nbformat": 4,
 "nbformat_minor": 4
}
